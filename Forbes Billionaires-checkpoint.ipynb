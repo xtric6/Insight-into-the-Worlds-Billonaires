{
 "cells": [
  {
   "cell_type": "markdown",
   "metadata": {},
   "source": [
    "# INSIGHT OF THE BILLIONAIRES IN THE WORLD"
   ]
  },
  {
   "cell_type": "markdown",
   "metadata": {},
   "source": [
    "##### This project aims at giving more insights on all billionaires in the world.\n",
    "##### The data for this project was gotten from www.kaggle.com\n"
   ]
  },
  {
   "cell_type": "markdown",
   "metadata": {},
   "source": [
    "##### Importing the required libraries"
   ]
  },
  {
   "cell_type": "code",
   "execution_count": 118,
   "metadata": {},
   "outputs": [],
   "source": [
    "import pandas as pd # library for data manipulation\n",
    "import matplotlib.pyplot as plt # library for visualization\n",
    "import numpy as np\n",
    "import seaborn as sns # library for visualization\n",
    "sns.set() # this command sets the seaborn chart style as the default\n"
   ]
  },
  {
   "cell_type": "markdown",
   "metadata": {},
   "source": [
    "##### Reading Data"
   ]
  },
  {
   "cell_type": "code",
   "execution_count": 119,
   "metadata": {},
   "outputs": [],
   "source": [
    "Billionaires_data = pd.read_csv('forbes_billionaires_geo.csv')"
   ]
  },
  {
   "cell_type": "markdown",
   "metadata": {},
   "source": [
    "##### Displaying the first five rows of the dataset"
   ]
  },
  {
   "cell_type": "code",
   "execution_count": 120,
   "metadata": {},
   "outputs": [
    {
     "data": {
      "text/html": [
       "<div>\n",
       "<style scoped>\n",
       "    .dataframe tbody tr th:only-of-type {\n",
       "        vertical-align: middle;\n",
       "    }\n",
       "\n",
       "    .dataframe tbody tr th {\n",
       "        vertical-align: top;\n",
       "    }\n",
       "\n",
       "    .dataframe thead th {\n",
       "        text-align: right;\n",
       "    }\n",
       "</style>\n",
       "<table border=\"1\" class=\"dataframe\">\n",
       "  <thead>\n",
       "    <tr style=\"text-align: right;\">\n",
       "      <th></th>\n",
       "      <th>Name</th>\n",
       "      <th>NetWorth</th>\n",
       "      <th>Country</th>\n",
       "      <th>Source</th>\n",
       "      <th>Rank</th>\n",
       "      <th>Age</th>\n",
       "      <th>Residence</th>\n",
       "      <th>Citizenship</th>\n",
       "      <th>Status</th>\n",
       "      <th>Children</th>\n",
       "      <th>Education</th>\n",
       "      <th>Self_made</th>\n",
       "      <th>geometry</th>\n",
       "    </tr>\n",
       "  </thead>\n",
       "  <tbody>\n",
       "    <tr>\n",
       "      <th>0</th>\n",
       "      <td>Jeff Bezos</td>\n",
       "      <td>177.0</td>\n",
       "      <td>United States</td>\n",
       "      <td>Amazon</td>\n",
       "      <td>1</td>\n",
       "      <td>57.0</td>\n",
       "      <td>Seattle, Washington</td>\n",
       "      <td>United States</td>\n",
       "      <td>In Relationship</td>\n",
       "      <td>4.0</td>\n",
       "      <td>Bachelor of Arts/Science, Princeton University</td>\n",
       "      <td>True</td>\n",
       "      <td>POINT (-122.3300624 47.6038321)</td>\n",
       "    </tr>\n",
       "    <tr>\n",
       "      <th>1</th>\n",
       "      <td>Elon Musk</td>\n",
       "      <td>151.0</td>\n",
       "      <td>United States</td>\n",
       "      <td>Tesla, SpaceX</td>\n",
       "      <td>2</td>\n",
       "      <td>49.0</td>\n",
       "      <td>Austin, Texas</td>\n",
       "      <td>United States</td>\n",
       "      <td>In Relationship</td>\n",
       "      <td>7.0</td>\n",
       "      <td>Bachelor of Arts/Science, University of Pennsy...</td>\n",
       "      <td>True</td>\n",
       "      <td>POINT (-97.74369950000001 30.2711286)</td>\n",
       "    </tr>\n",
       "    <tr>\n",
       "      <th>2</th>\n",
       "      <td>Bernard Arnault &amp; family</td>\n",
       "      <td>150.0</td>\n",
       "      <td>France</td>\n",
       "      <td>LVMH</td>\n",
       "      <td>3</td>\n",
       "      <td>72.0</td>\n",
       "      <td>Paris, France</td>\n",
       "      <td>France</td>\n",
       "      <td>Married</td>\n",
       "      <td>5.0</td>\n",
       "      <td>Bachelor of Arts/Science, Ecole Polytechnique ...</td>\n",
       "      <td>False</td>\n",
       "      <td>POINT (2.3514616 48.8566969)</td>\n",
       "    </tr>\n",
       "    <tr>\n",
       "      <th>3</th>\n",
       "      <td>Bill Gates</td>\n",
       "      <td>124.0</td>\n",
       "      <td>United States</td>\n",
       "      <td>Microsoft</td>\n",
       "      <td>4</td>\n",
       "      <td>65.0</td>\n",
       "      <td>Medina, Washington</td>\n",
       "      <td>United States</td>\n",
       "      <td>Divorced</td>\n",
       "      <td>3.0</td>\n",
       "      <td>Drop Out, Harvard University</td>\n",
       "      <td>True</td>\n",
       "      <td>POINT (-122.2264453 47.620548)</td>\n",
       "    </tr>\n",
       "    <tr>\n",
       "      <th>4</th>\n",
       "      <td>Mark Zuckerberg</td>\n",
       "      <td>97.0</td>\n",
       "      <td>United States</td>\n",
       "      <td>Facebook</td>\n",
       "      <td>5</td>\n",
       "      <td>36.0</td>\n",
       "      <td>Palo Alto, California</td>\n",
       "      <td>United States</td>\n",
       "      <td>Married</td>\n",
       "      <td>2.0</td>\n",
       "      <td>Drop Out, Harvard University</td>\n",
       "      <td>True</td>\n",
       "      <td>POINT (-122.1598465 37.4443293)</td>\n",
       "    </tr>\n",
       "  </tbody>\n",
       "</table>\n",
       "</div>"
      ],
      "text/plain": [
       "                       Name  NetWorth        Country         Source  Rank  \\\n",
       "0                Jeff Bezos     177.0  United States         Amazon     1   \n",
       "1                 Elon Musk     151.0  United States  Tesla, SpaceX     2   \n",
       "2  Bernard Arnault & family     150.0         France           LVMH     3   \n",
       "3                Bill Gates     124.0  United States      Microsoft     4   \n",
       "4           Mark Zuckerberg      97.0  United States       Facebook     5   \n",
       "\n",
       "    Age              Residence    Citizenship           Status  Children  \\\n",
       "0  57.0    Seattle, Washington  United States  In Relationship       4.0   \n",
       "1  49.0          Austin, Texas  United States  In Relationship       7.0   \n",
       "2  72.0          Paris, France         France          Married       5.0   \n",
       "3  65.0     Medina, Washington  United States         Divorced       3.0   \n",
       "4  36.0  Palo Alto, California  United States          Married       2.0   \n",
       "\n",
       "                                           Education Self_made  \\\n",
       "0     Bachelor of Arts/Science, Princeton University      True   \n",
       "1  Bachelor of Arts/Science, University of Pennsy...      True   \n",
       "2  Bachelor of Arts/Science, Ecole Polytechnique ...     False   \n",
       "3                       Drop Out, Harvard University      True   \n",
       "4                       Drop Out, Harvard University      True   \n",
       "\n",
       "                                geometry  \n",
       "0        POINT (-122.3300624 47.6038321)  \n",
       "1  POINT (-97.74369950000001 30.2711286)  \n",
       "2           POINT (2.3514616 48.8566969)  \n",
       "3         POINT (-122.2264453 47.620548)  \n",
       "4        POINT (-122.1598465 37.4443293)  "
      ]
     },
     "execution_count": 120,
     "metadata": {},
     "output_type": "execute_result"
    }
   ],
   "source": [
    "\n",
    "Billionaires_data.head()"
   ]
  },
  {
   "cell_type": "markdown",
   "metadata": {},
   "source": [
    "Legend of the features of this data set:\n",
    "    \n",
    "    "
   ]
  },
  {
   "cell_type": "markdown",
   "metadata": {},
   "source": [
    "* **Name**: the  name and surname of the billionaires;\n",
    "* **Networth**: the networth in billions dollars;\n",
    "* **Country**: the country in which they were born;\n",
    "* **Source**: the source of wealth;\n",
    "* **Rank**: theposition in forbes list;\n",
    "* **Age**: their age;\n",
    "* **Residence**: the city in which they reside\n",
    "* **Citizenship**: the citizenship they posses;\n",
    "* **Status**: Their marital status;\n",
    "* **Children**: the number of children they have;\n",
    "* **Education**: the name of school/university they attended;\n",
    "* **Self_made**: if they are self made or not.\n",
    "\n"
   ]
  },
  {
   "cell_type": "code",
   "execution_count": 121,
   "metadata": {},
   "outputs": [
    {
     "data": {
      "text/html": [
       "<div>\n",
       "<style scoped>\n",
       "    .dataframe tbody tr th:only-of-type {\n",
       "        vertical-align: middle;\n",
       "    }\n",
       "\n",
       "    .dataframe tbody tr th {\n",
       "        vertical-align: top;\n",
       "    }\n",
       "\n",
       "    .dataframe thead th {\n",
       "        text-align: right;\n",
       "    }\n",
       "</style>\n",
       "<table border=\"1\" class=\"dataframe\">\n",
       "  <thead>\n",
       "    <tr style=\"text-align: right;\">\n",
       "      <th></th>\n",
       "      <th>NetWorth</th>\n",
       "      <th>Rank</th>\n",
       "      <th>Age</th>\n",
       "      <th>Children</th>\n",
       "    </tr>\n",
       "  </thead>\n",
       "  <tbody>\n",
       "    <tr>\n",
       "      <th>count</th>\n",
       "      <td>2755.000000</td>\n",
       "      <td>2755.000000</td>\n",
       "      <td>2630.00000</td>\n",
       "      <td>1552.000000</td>\n",
       "    </tr>\n",
       "    <tr>\n",
       "      <th>mean</th>\n",
       "      <td>4.749220</td>\n",
       "      <td>1345.663521</td>\n",
       "      <td>63.26730</td>\n",
       "      <td>2.978093</td>\n",
       "    </tr>\n",
       "    <tr>\n",
       "      <th>std</th>\n",
       "      <td>9.615358</td>\n",
       "      <td>772.669811</td>\n",
       "      <td>13.47916</td>\n",
       "      <td>1.618569</td>\n",
       "    </tr>\n",
       "    <tr>\n",
       "      <th>min</th>\n",
       "      <td>1.000000</td>\n",
       "      <td>1.000000</td>\n",
       "      <td>18.00000</td>\n",
       "      <td>1.000000</td>\n",
       "    </tr>\n",
       "    <tr>\n",
       "      <th>25%</th>\n",
       "      <td>1.500000</td>\n",
       "      <td>680.000000</td>\n",
       "      <td>54.00000</td>\n",
       "      <td>2.000000</td>\n",
       "    </tr>\n",
       "    <tr>\n",
       "      <th>50%</th>\n",
       "      <td>2.300000</td>\n",
       "      <td>1362.000000</td>\n",
       "      <td>63.00000</td>\n",
       "      <td>3.000000</td>\n",
       "    </tr>\n",
       "    <tr>\n",
       "      <th>75%</th>\n",
       "      <td>4.200000</td>\n",
       "      <td>2035.000000</td>\n",
       "      <td>73.00000</td>\n",
       "      <td>4.000000</td>\n",
       "    </tr>\n",
       "    <tr>\n",
       "      <th>max</th>\n",
       "      <td>177.000000</td>\n",
       "      <td>2674.000000</td>\n",
       "      <td>99.00000</td>\n",
       "      <td>23.000000</td>\n",
       "    </tr>\n",
       "  </tbody>\n",
       "</table>\n",
       "</div>"
      ],
      "text/plain": [
       "          NetWorth         Rank         Age     Children\n",
       "count  2755.000000  2755.000000  2630.00000  1552.000000\n",
       "mean      4.749220  1345.663521    63.26730     2.978093\n",
       "std       9.615358   772.669811    13.47916     1.618569\n",
       "min       1.000000     1.000000    18.00000     1.000000\n",
       "25%       1.500000   680.000000    54.00000     2.000000\n",
       "50%       2.300000  1362.000000    63.00000     3.000000\n",
       "75%       4.200000  2035.000000    73.00000     4.000000\n",
       "max     177.000000  2674.000000    99.00000    23.000000"
      ]
     },
     "execution_count": 121,
     "metadata": {},
     "output_type": "execute_result"
    }
   ],
   "source": [
    "# Get summary of numerical variables\n",
    "Billionaires_data.describe()"
   ]
  },
  {
   "cell_type": "code",
   "execution_count": 122,
   "metadata": {},
   "outputs": [
    {
     "data": {
      "text/html": [
       "<div>\n",
       "<style scoped>\n",
       "    .dataframe tbody tr th:only-of-type {\n",
       "        vertical-align: middle;\n",
       "    }\n",
       "\n",
       "    .dataframe tbody tr th {\n",
       "        vertical-align: top;\n",
       "    }\n",
       "\n",
       "    .dataframe thead th {\n",
       "        text-align: right;\n",
       "    }\n",
       "</style>\n",
       "<table border=\"1\" class=\"dataframe\">\n",
       "  <thead>\n",
       "    <tr style=\"text-align: right;\">\n",
       "      <th></th>\n",
       "      <th>Name</th>\n",
       "      <th>NetWorth</th>\n",
       "      <th>Country</th>\n",
       "      <th>Source</th>\n",
       "      <th>Rank</th>\n",
       "      <th>Age</th>\n",
       "      <th>Residence</th>\n",
       "      <th>Citizenship</th>\n",
       "      <th>Status</th>\n",
       "      <th>Children</th>\n",
       "      <th>Education</th>\n",
       "      <th>Self_made</th>\n",
       "      <th>geometry</th>\n",
       "    </tr>\n",
       "  </thead>\n",
       "  <tbody>\n",
       "    <tr>\n",
       "      <th>0</th>\n",
       "      <td>Jeff Bezos</td>\n",
       "      <td>177.0</td>\n",
       "      <td>United States</td>\n",
       "      <td>Amazon</td>\n",
       "      <td>1</td>\n",
       "      <td>57.0</td>\n",
       "      <td>Seattle, Washington</td>\n",
       "      <td>United States</td>\n",
       "      <td>In Relationship</td>\n",
       "      <td>4.0</td>\n",
       "      <td>Bachelor of Arts/Science, Princeton University</td>\n",
       "      <td>True</td>\n",
       "      <td>POINT (-122.3300624 47.6038321)</td>\n",
       "    </tr>\n",
       "    <tr>\n",
       "      <th>1</th>\n",
       "      <td>Elon Musk</td>\n",
       "      <td>151.0</td>\n",
       "      <td>United States</td>\n",
       "      <td>Tesla, SpaceX</td>\n",
       "      <td>2</td>\n",
       "      <td>49.0</td>\n",
       "      <td>Austin, Texas</td>\n",
       "      <td>United States</td>\n",
       "      <td>In Relationship</td>\n",
       "      <td>7.0</td>\n",
       "      <td>Bachelor of Arts/Science, University of Pennsy...</td>\n",
       "      <td>True</td>\n",
       "      <td>POINT (-97.74369950000001 30.2711286)</td>\n",
       "    </tr>\n",
       "    <tr>\n",
       "      <th>2</th>\n",
       "      <td>Bernard Arnault &amp; family</td>\n",
       "      <td>150.0</td>\n",
       "      <td>France</td>\n",
       "      <td>LVMH</td>\n",
       "      <td>3</td>\n",
       "      <td>72.0</td>\n",
       "      <td>Paris, France</td>\n",
       "      <td>France</td>\n",
       "      <td>Married</td>\n",
       "      <td>5.0</td>\n",
       "      <td>Bachelor of Arts/Science, Ecole Polytechnique ...</td>\n",
       "      <td>False</td>\n",
       "      <td>POINT (2.3514616 48.8566969)</td>\n",
       "    </tr>\n",
       "    <tr>\n",
       "      <th>3</th>\n",
       "      <td>Bill Gates</td>\n",
       "      <td>124.0</td>\n",
       "      <td>United States</td>\n",
       "      <td>Microsoft</td>\n",
       "      <td>4</td>\n",
       "      <td>65.0</td>\n",
       "      <td>Medina, Washington</td>\n",
       "      <td>United States</td>\n",
       "      <td>Divorced</td>\n",
       "      <td>3.0</td>\n",
       "      <td>Drop Out, Harvard University</td>\n",
       "      <td>True</td>\n",
       "      <td>POINT (-122.2264453 47.620548)</td>\n",
       "    </tr>\n",
       "    <tr>\n",
       "      <th>4</th>\n",
       "      <td>Mark Zuckerberg</td>\n",
       "      <td>97.0</td>\n",
       "      <td>United States</td>\n",
       "      <td>Facebook</td>\n",
       "      <td>5</td>\n",
       "      <td>36.0</td>\n",
       "      <td>Palo Alto, California</td>\n",
       "      <td>United States</td>\n",
       "      <td>Married</td>\n",
       "      <td>2.0</td>\n",
       "      <td>Drop Out, Harvard University</td>\n",
       "      <td>True</td>\n",
       "      <td>POINT (-122.1598465 37.4443293)</td>\n",
       "    </tr>\n",
       "    <tr>\n",
       "      <th>...</th>\n",
       "      <td>...</td>\n",
       "      <td>...</td>\n",
       "      <td>...</td>\n",
       "      <td>...</td>\n",
       "      <td>...</td>\n",
       "      <td>...</td>\n",
       "      <td>...</td>\n",
       "      <td>...</td>\n",
       "      <td>...</td>\n",
       "      <td>...</td>\n",
       "      <td>...</td>\n",
       "      <td>...</td>\n",
       "      <td>...</td>\n",
       "    </tr>\n",
       "    <tr>\n",
       "      <th>2750</th>\n",
       "      <td>Daniel Yong Zhang</td>\n",
       "      <td>1.0</td>\n",
       "      <td>China</td>\n",
       "      <td>e-commerce</td>\n",
       "      <td>2674</td>\n",
       "      <td>49.0</td>\n",
       "      <td>Hangzhou, China</td>\n",
       "      <td>China</td>\n",
       "      <td>NaN</td>\n",
       "      <td>NaN</td>\n",
       "      <td>NaN</td>\n",
       "      <td>True</td>\n",
       "      <td>POINT (120.2052342 30.2489634)</td>\n",
       "    </tr>\n",
       "    <tr>\n",
       "      <th>2751</th>\n",
       "      <td>Zhang Yuqiang</td>\n",
       "      <td>1.0</td>\n",
       "      <td>China</td>\n",
       "      <td>Fiberglass</td>\n",
       "      <td>2674</td>\n",
       "      <td>65.0</td>\n",
       "      <td>Tongxiang, China</td>\n",
       "      <td>China</td>\n",
       "      <td>NaN</td>\n",
       "      <td>NaN</td>\n",
       "      <td>NaN</td>\n",
       "      <td>True</td>\n",
       "      <td>POINT (120.5610365 30.6316971)</td>\n",
       "    </tr>\n",
       "    <tr>\n",
       "      <th>2752</th>\n",
       "      <td>Zhao Meiguang</td>\n",
       "      <td>1.0</td>\n",
       "      <td>China</td>\n",
       "      <td>gold mining</td>\n",
       "      <td>2674</td>\n",
       "      <td>58.0</td>\n",
       "      <td>Jilin, China</td>\n",
       "      <td>China</td>\n",
       "      <td>NaN</td>\n",
       "      <td>NaN</td>\n",
       "      <td>NaN</td>\n",
       "      <td>True</td>\n",
       "      <td>POINT (125.9816054 42.9995032)</td>\n",
       "    </tr>\n",
       "    <tr>\n",
       "      <th>2753</th>\n",
       "      <td>Zhong Naixiong</td>\n",
       "      <td>1.0</td>\n",
       "      <td>China</td>\n",
       "      <td>conglomerate</td>\n",
       "      <td>2674</td>\n",
       "      <td>58.0</td>\n",
       "      <td>Foshan, China</td>\n",
       "      <td>China</td>\n",
       "      <td>NaN</td>\n",
       "      <td>NaN</td>\n",
       "      <td>NaN</td>\n",
       "      <td>True</td>\n",
       "      <td>POINT (113.1146335 23.0247687)</td>\n",
       "    </tr>\n",
       "    <tr>\n",
       "      <th>2754</th>\n",
       "      <td>Zhou Wei family</td>\n",
       "      <td>1.0</td>\n",
       "      <td>China</td>\n",
       "      <td>Software</td>\n",
       "      <td>2674</td>\n",
       "      <td>54.0</td>\n",
       "      <td>Shanghai, China</td>\n",
       "      <td>China</td>\n",
       "      <td>Married</td>\n",
       "      <td>NaN</td>\n",
       "      <td>NaN</td>\n",
       "      <td>True</td>\n",
       "      <td>POINT (121.4692071 31.2322758)</td>\n",
       "    </tr>\n",
       "  </tbody>\n",
       "</table>\n",
       "<p>2755 rows × 13 columns</p>\n",
       "</div>"
      ],
      "text/plain": [
       "                          Name  NetWorth        Country         Source  Rank  \\\n",
       "0                   Jeff Bezos     177.0  United States         Amazon     1   \n",
       "1                    Elon Musk     151.0  United States  Tesla, SpaceX     2   \n",
       "2     Bernard Arnault & family     150.0         France           LVMH     3   \n",
       "3                   Bill Gates     124.0  United States      Microsoft     4   \n",
       "4              Mark Zuckerberg      97.0  United States       Facebook     5   \n",
       "...                        ...       ...            ...            ...   ...   \n",
       "2750         Daniel Yong Zhang       1.0          China     e-commerce  2674   \n",
       "2751             Zhang Yuqiang       1.0          China     Fiberglass  2674   \n",
       "2752             Zhao Meiguang       1.0          China    gold mining  2674   \n",
       "2753            Zhong Naixiong       1.0          China   conglomerate  2674   \n",
       "2754           Zhou Wei family       1.0          China       Software  2674   \n",
       "\n",
       "       Age              Residence    Citizenship           Status  Children  \\\n",
       "0     57.0    Seattle, Washington  United States  In Relationship       4.0   \n",
       "1     49.0          Austin, Texas  United States  In Relationship       7.0   \n",
       "2     72.0          Paris, France         France          Married       5.0   \n",
       "3     65.0     Medina, Washington  United States         Divorced       3.0   \n",
       "4     36.0  Palo Alto, California  United States          Married       2.0   \n",
       "...    ...                    ...            ...              ...       ...   \n",
       "2750  49.0        Hangzhou, China          China              NaN       NaN   \n",
       "2751  65.0       Tongxiang, China          China              NaN       NaN   \n",
       "2752  58.0           Jilin, China          China              NaN       NaN   \n",
       "2753  58.0          Foshan, China          China              NaN       NaN   \n",
       "2754  54.0        Shanghai, China          China          Married       NaN   \n",
       "\n",
       "                                              Education Self_made  \\\n",
       "0        Bachelor of Arts/Science, Princeton University      True   \n",
       "1     Bachelor of Arts/Science, University of Pennsy...      True   \n",
       "2     Bachelor of Arts/Science, Ecole Polytechnique ...     False   \n",
       "3                          Drop Out, Harvard University      True   \n",
       "4                          Drop Out, Harvard University      True   \n",
       "...                                                 ...       ...   \n",
       "2750                                                NaN      True   \n",
       "2751                                                NaN      True   \n",
       "2752                                                NaN      True   \n",
       "2753                                                NaN      True   \n",
       "2754                                                NaN      True   \n",
       "\n",
       "                                   geometry  \n",
       "0           POINT (-122.3300624 47.6038321)  \n",
       "1     POINT (-97.74369950000001 30.2711286)  \n",
       "2              POINT (2.3514616 48.8566969)  \n",
       "3            POINT (-122.2264453 47.620548)  \n",
       "4           POINT (-122.1598465 37.4443293)  \n",
       "...                                     ...  \n",
       "2750         POINT (120.2052342 30.2489634)  \n",
       "2751         POINT (120.5610365 30.6316971)  \n",
       "2752         POINT (125.9816054 42.9995032)  \n",
       "2753         POINT (113.1146335 23.0247687)  \n",
       "2754         POINT (121.4692071 31.2322758)  \n",
       "\n",
       "[2755 rows x 13 columns]"
      ]
     },
     "execution_count": 122,
     "metadata": {},
     "output_type": "execute_result"
    }
   ],
   "source": [
    "Billionaires_data"
   ]
  },
  {
   "cell_type": "code",
   "execution_count": 123,
   "metadata": {
    "scrolled": true
   },
   "outputs": [
    {
     "data": {
      "text/plain": [
       "(2755, 13)"
      ]
     },
     "execution_count": 123,
     "metadata": {},
     "output_type": "execute_result"
    }
   ],
   "source": [
    "Billionaires_data.shape"
   ]
  },
  {
   "cell_type": "markdown",
   "metadata": {},
   "source": [
    "##### Checking for missing values in our data set\n"
   ]
  },
  {
   "cell_type": "code",
   "execution_count": 124,
   "metadata": {
    "scrolled": true
   },
   "outputs": [
    {
     "data": {
      "text/plain": [
       "Name              0\n",
       "NetWorth          0\n",
       "Country           0\n",
       "Source            0\n",
       "Rank              0\n",
       "Age             125\n",
       "Residence        40\n",
       "Citizenship      16\n",
       "Status          665\n",
       "Children       1203\n",
       "Education      1346\n",
       "Self_made        18\n",
       "geometry          0\n",
       "dtype: int64"
      ]
     },
     "execution_count": 124,
     "metadata": {},
     "output_type": "execute_result"
    }
   ],
   "source": [
    "pd.isnull(Billionaires_data).sum()"
   ]
  },
  {
   "cell_type": "markdown",
   "metadata": {},
   "source": [
    "* From this result we can see that Age,Residence,Citizenship,status,Children,Education and the selfmade have missing values.\n",
    "* And the Number of children and Education background of the billionares have the most missing values."
   ]
  },
  {
   "cell_type": "markdown",
   "metadata": {},
   "source": [
    "#### Filling the Missing Values"
   ]
  },
  {
   "cell_type": "markdown",
   "metadata": {},
   "source": [
    "###### Age"
   ]
  },
  {
   "cell_type": "code",
   "execution_count": 125,
   "metadata": {},
   "outputs": [
    {
     "data": {
      "text/plain": [
       "63.267300380228136"
      ]
     },
     "execution_count": 125,
     "metadata": {},
     "output_type": "execute_result"
    }
   ],
   "source": [
    "#filling the values of a age with the mean age\n",
    "Billionaires_data['Age'].mean()"
   ]
  },
  {
   "cell_type": "code",
   "execution_count": 126,
   "metadata": {},
   "outputs": [],
   "source": [
    "#checking missing value was sucessfilly filled\n",
    "Billionaires_data['Age'].fillna(Billionaires_data['Age'].mean(),inplace = True)"
   ]
  },
  {
   "cell_type": "code",
   "execution_count": 127,
   "metadata": {},
   "outputs": [
    {
     "data": {
      "text/plain": [
       "0"
      ]
     },
     "execution_count": 127,
     "metadata": {},
     "output_type": "execute_result"
    }
   ],
   "source": [
    "#zero output shows that there are no missing values\n",
    "Billionaires_data['Age'].isnull().sum()"
   ]
  },
  {
   "cell_type": "markdown",
   "metadata": {},
   "source": [
    "###### Residence"
   ]
  },
  {
   "cell_type": "code",
   "execution_count": 128,
   "metadata": {},
   "outputs": [
    {
     "data": {
      "text/plain": [
       "0    Beijing, China\n",
       "dtype: object"
      ]
     },
     "execution_count": 128,
     "metadata": {},
     "output_type": "execute_result"
    }
   ],
   "source": [
    "#The missing values in the residence column are just 40.\n",
    "# checking for the mode(the most re-occuring value) in the residence column.\n",
    "Billionaires_data['Residence'].mode()"
   ]
  },
  {
   "cell_type": "code",
   "execution_count": 134,
   "metadata": {},
   "outputs": [],
   "source": [
    "# Filling the missing values with the mode(the most re-occuring value) which is 'Beijing, China in the residence column.\n",
    "Billionaires_data['Residence'].fillna('Beijing, China',inplace = True)"
   ]
  },
  {
   "cell_type": "code",
   "execution_count": null,
   "metadata": {},
   "outputs": [],
   "source": [
    "#confirming if there are still missing values in the residence column\n",
    "pd.isna(Billionaires_data['Residence']).sum()"
   ]
  },
  {
   "cell_type": "markdown",
   "metadata": {},
   "source": [
    "##### Lets visualize this the number of missing values in a heatmap so we can see things more clearly"
   ]
  },
  {
   "cell_type": "code",
   "execution_count": null,
   "metadata": {},
   "outputs": [],
   "source": [
    "sns.heatmap(Billionaires_data.isnull(),cbar=False)"
   ]
  },
  {
   "cell_type": "markdown",
   "metadata": {},
   "source": [
    "###### Against index, we can see that:"
   ]
  },
  {
   "cell_type": "markdown",
   "metadata": {},
   "source": [
    "* Age column has missing values with variation in occurence,\n",
    "* Status,Children and Education are almost filled with missing values and\n",
    "* Self made has few missing values almost around its center."
   ]
  },
  {
   "cell_type": "markdown",
   "metadata": {},
   "source": [
    "## Country with the highest number of Billionaires per Networth"
   ]
  },
  {
   "cell_type": "code",
   "execution_count": null,
   "metadata": {},
   "outputs": [],
   "source": [
    "Billionaires_data['Country'].value_counts(ascending = False,)"
   ]
  },
  {
   "cell_type": "markdown",
   "metadata": {},
   "source": [
    "* **United states has the highest number of Billionaires in the world**"
   ]
  },
  {
   "cell_type": "markdown",
   "metadata": {},
   "source": [
    "###### Let's plot a bar chat to visualize this data"
   ]
  },
  {
   "cell_type": "code",
   "execution_count": 263,
   "metadata": {
    "scrolled": true
   },
   "outputs": [
    {
     "data": {
      "image/png": "[encoded data removed]",
      "text/plain": [
       "<Figure size 1296x864 with 1 Axes>"
      ]
     },
     "metadata": {},
     "output_type": "display_data"
    }
   ],
   "source": [
    "plt.figure(figsize = (18,12))\n",
    "plt.bar(x =Billionaires_data['Country'], height = Billionaires_data['NetWorth'],color = 'midnightblue' )\n",
    "plt.xticks(rotation = 90,fontsize = 15)\n",
    "plt.yticks(fontsize = 15)\n",
    "plt.title('Countries with the Richest Billionaires in the World',fontsize = 16)\n",
    "\n",
    "plt.savefig('Countries with the Richest Billionaires in the World.png')\n",
    "\n",
    "plt.show()"
   ]
  },
  {
   "cell_type": "code",
   "execution_count": 185,
   "metadata": {},
   "outputs": [],
   "source": [
    "df = Billionaires_data['Country'].value_counts(ascending = False)"
   ]
  },
  {
   "cell_type": "code",
   "execution_count": null,
   "metadata": {},
   "outputs": [],
   "source": [
    "df"
   ]
  },
  {
   "cell_type": "code",
   "execution_count": null,
   "metadata": {},
   "outputs": [],
   "source": [
    "Billionaires_data['Country'].value_counts()[:10]"
   ]
  },
  {
   "cell_type": "code",
   "execution_count": 133,
   "metadata": {
    "scrolled": false
   },
   "outputs": [
    {
     "data": {
      "image/png": "[encoded data removed]",
      "text/plain": [
       "<Figure size 1080x1080 with 1 Axes>"
      ]
     },
     "metadata": {},
     "output_type": "display_data"
    }
   ],
   "source": [
    "sns.set_style('white') #to change the background colour to white\n",
    "plt.figure(figsize = (15,15))\n",
    "Billionaires_data['Country'].value_counts()[:10].plot(kind = 'bar', color = ['#FF7F11','#274156','#274156','#274156','#274156','#274156','#274156','#274156','#274156','#274156',])\n",
    "\n",
    "plt.xticks(rotation = 90,fontsize = 13)\n",
    "plt.yticks(fontsize = 13)\n",
    "plt.xlabel('Country',fontsize = 17, weight = 'bold')\n",
    "plt.ylabel('',fontsize = 15,weight = 'bold')\n",
    "plt.title('Top 10 countries with the richest Billionaires in the world',fontsize = 20,weight = 'bold')\n",
    "plt.axis('on')\n",
    "plt.grid(False) #to remove the gride lines\n",
    "sns.despine(left = True , bottom = True)\n",
    "plt.savefig('Top 10 countries with the richest Billionaires in the world.png')\n",
    "\n",
    "plt.show()"
   ]
  },
  {
   "cell_type": "code",
   "execution_count": 147,
   "metadata": {},
   "outputs": [],
   "source": [
    "nigeria = Billionaires_data.loc[(Billionaires_data['Country']== 'Nigeria')]"
   ]
  },
  {
   "cell_type": "code",
   "execution_count": 148,
   "metadata": {},
   "outputs": [
    {
     "data": {
      "text/html": [
       "<div>\n",
       "<style scoped>\n",
       "    .dataframe tbody tr th:only-of-type {\n",
       "        vertical-align: middle;\n",
       "    }\n",
       "\n",
       "    .dataframe tbody tr th {\n",
       "        vertical-align: top;\n",
       "    }\n",
       "\n",
       "    .dataframe thead th {\n",
       "        text-align: right;\n",
       "    }\n",
       "</style>\n",
       "<table border=\"1\" class=\"dataframe\">\n",
       "  <thead>\n",
       "    <tr style=\"text-align: right;\">\n",
       "      <th></th>\n",
       "      <th>Name</th>\n",
       "      <th>NetWorth</th>\n",
       "      <th>Country</th>\n",
       "      <th>Source</th>\n",
       "      <th>Rank</th>\n",
       "      <th>Age</th>\n",
       "      <th>Residence</th>\n",
       "      <th>Citizenship</th>\n",
       "      <th>Status</th>\n",
       "      <th>Children</th>\n",
       "      <th>Education</th>\n",
       "      <th>Self_made</th>\n",
       "      <th>geometry</th>\n",
       "      <th>Race</th>\n",
       "    </tr>\n",
       "  </thead>\n",
       "  <tbody>\n",
       "    <tr>\n",
       "      <th>190</th>\n",
       "      <td>Aliko Dangote</td>\n",
       "      <td>11.5</td>\n",
       "      <td>Nigeria</td>\n",
       "      <td>cement, sugar</td>\n",
       "      <td>191</td>\n",
       "      <td>64.0</td>\n",
       "      <td>Lagos, Nigeria</td>\n",
       "      <td>Nigeria</td>\n",
       "      <td>Divorced</td>\n",
       "      <td>3.0</td>\n",
       "      <td>Bachelor of Arts/Science, Al-Azhar University</td>\n",
       "      <td>True</td>\n",
       "      <td>POINT (3.3941795 6.4550575)</td>\n",
       "      <td>Black</td>\n",
       "    </tr>\n",
       "    <tr>\n",
       "      <th>439</th>\n",
       "      <td>Mike Adenuga</td>\n",
       "      <td>6.1</td>\n",
       "      <td>Nigeria</td>\n",
       "      <td>telecom, oil</td>\n",
       "      <td>440</td>\n",
       "      <td>68.0</td>\n",
       "      <td>Lagos, Nigeria</td>\n",
       "      <td>Nigeria</td>\n",
       "      <td>Married</td>\n",
       "      <td>7.0</td>\n",
       "      <td>Master of Business Administration, Pace Univer...</td>\n",
       "      <td>True</td>\n",
       "      <td>POINT (3.3941795 6.4550575)</td>\n",
       "      <td>Black</td>\n",
       "    </tr>\n",
       "    <tr>\n",
       "      <th>580</th>\n",
       "      <td>Abdulsamad Rabiu</td>\n",
       "      <td>4.9</td>\n",
       "      <td>Nigeria</td>\n",
       "      <td>cement, sugar</td>\n",
       "      <td>574</td>\n",
       "      <td>60.0</td>\n",
       "      <td>Lagos, Nigeria</td>\n",
       "      <td>Nigeria</td>\n",
       "      <td>Married</td>\n",
       "      <td>NaN</td>\n",
       "      <td>NaN</td>\n",
       "      <td>False</td>\n",
       "      <td>POINT (3.3941795 6.4550575)</td>\n",
       "      <td>Black</td>\n",
       "    </tr>\n",
       "  </tbody>\n",
       "</table>\n",
       "</div>"
      ],
      "text/plain": [
       "                 Name  NetWorth  Country         Source  Rank   Age  \\\n",
       "190     Aliko Dangote      11.5  Nigeria  cement, sugar   191  64.0   \n",
       "439      Mike Adenuga       6.1  Nigeria   telecom, oil   440  68.0   \n",
       "580  Abdulsamad Rabiu       4.9  Nigeria  cement, sugar   574  60.0   \n",
       "\n",
       "          Residence Citizenship    Status  Children  \\\n",
       "190  Lagos, Nigeria     Nigeria  Divorced       3.0   \n",
       "439  Lagos, Nigeria     Nigeria   Married       7.0   \n",
       "580  Lagos, Nigeria     Nigeria   Married       NaN   \n",
       "\n",
       "                                             Education Self_made  \\\n",
       "190      Bachelor of Arts/Science, Al-Azhar University      True   \n",
       "439  Master of Business Administration, Pace Univer...      True   \n",
       "580                                                NaN     False   \n",
       "\n",
       "                        geometry   Race  \n",
       "190  POINT (3.3941795 6.4550575)  Black  \n",
       "439  POINT (3.3941795 6.4550575)  Black  \n",
       "580  POINT (3.3941795 6.4550575)  Black  "
      ]
     },
     "execution_count": 148,
     "metadata": {},
     "output_type": "execute_result"
    }
   ],
   "source": [
    "nigeria"
   ]
  },
  {
   "cell_type": "markdown",
   "metadata": {},
   "source": [
    "plt.figure(figsize = (9,6))\n",
    "plt.bar(x =nigeria['Name'], height = nigeria['NetWorth'],color = 'red' )\n",
    "plt.xticks(rotation = 90,fontsize = 15)\n",
    "plt.yticks(fontsize = 15)\n",
    "plt.title('Top 3 richest billionaires in Nigeria',fontsize = 16)\n",
    "plt.show()"
   ]
  },
  {
   "cell_type": "markdown",
   "metadata": {},
   "source": [
    "### Top 10 richest people in the world"
   ]
  },
  {
   "cell_type": "code",
   "execution_count": 265,
   "metadata": {},
   "outputs": [],
   "source": [
    "Billionaires_top10_names = Billionaires_data[:10]"
   ]
  },
  {
   "cell_type": "code",
   "execution_count": 266,
   "metadata": {
    "scrolled": true
   },
   "outputs": [
    {
     "data": {
      "text/html": [
       "<div>\n",
       "<style scoped>\n",
       "    .dataframe tbody tr th:only-of-type {\n",
       "        vertical-align: middle;\n",
       "    }\n",
       "\n",
       "    .dataframe tbody tr th {\n",
       "        vertical-align: top;\n",
       "    }\n",
       "\n",
       "    .dataframe thead th {\n",
       "        text-align: right;\n",
       "    }\n",
       "</style>\n",
       "<table border=\"1\" class=\"dataframe\">\n",
       "  <thead>\n",
       "    <tr style=\"text-align: right;\">\n",
       "      <th></th>\n",
       "      <th>Name</th>\n",
       "      <th>NetWorth</th>\n",
       "      <th>Country</th>\n",
       "      <th>Source</th>\n",
       "      <th>Rank</th>\n",
       "      <th>Age</th>\n",
       "      <th>Residence</th>\n",
       "      <th>Citizenship</th>\n",
       "      <th>Status</th>\n",
       "      <th>Children</th>\n",
       "      <th>Education</th>\n",
       "      <th>Self_made</th>\n",
       "      <th>Race</th>\n",
       "    </tr>\n",
       "  </thead>\n",
       "  <tbody>\n",
       "    <tr>\n",
       "      <th>0</th>\n",
       "      <td>Jeff Bezos</td>\n",
       "      <td>177.0</td>\n",
       "      <td>United States</td>\n",
       "      <td>Amazon</td>\n",
       "      <td>1</td>\n",
       "      <td>57.0</td>\n",
       "      <td>Seattle, Washington</td>\n",
       "      <td>United States</td>\n",
       "      <td>In Relationship</td>\n",
       "      <td>4.0</td>\n",
       "      <td>Bachelor of Arts/Science, Princeton University</td>\n",
       "      <td>True</td>\n",
       "      <td>Non Black</td>\n",
       "    </tr>\n",
       "    <tr>\n",
       "      <th>1</th>\n",
       "      <td>Elon Musk</td>\n",
       "      <td>151.0</td>\n",
       "      <td>United States</td>\n",
       "      <td>Tesla, SpaceX</td>\n",
       "      <td>2</td>\n",
       "      <td>49.0</td>\n",
       "      <td>Austin, Texas</td>\n",
       "      <td>United States</td>\n",
       "      <td>In Relationship</td>\n",
       "      <td>7.0</td>\n",
       "      <td>Bachelor of Arts/Science, University of Pennsy...</td>\n",
       "      <td>True</td>\n",
       "      <td>Non Black</td>\n",
       "    </tr>\n",
       "    <tr>\n",
       "      <th>2</th>\n",
       "      <td>Bernard Arnault &amp; family</td>\n",
       "      <td>150.0</td>\n",
       "      <td>France</td>\n",
       "      <td>LVMH</td>\n",
       "      <td>3</td>\n",
       "      <td>72.0</td>\n",
       "      <td>Paris, France</td>\n",
       "      <td>France</td>\n",
       "      <td>Married</td>\n",
       "      <td>5.0</td>\n",
       "      <td>Bachelor of Arts/Science, Ecole Polytechnique ...</td>\n",
       "      <td>False</td>\n",
       "      <td>Non Black</td>\n",
       "    </tr>\n",
       "    <tr>\n",
       "      <th>3</th>\n",
       "      <td>Bill Gates</td>\n",
       "      <td>124.0</td>\n",
       "      <td>United States</td>\n",
       "      <td>Microsoft</td>\n",
       "      <td>4</td>\n",
       "      <td>65.0</td>\n",
       "      <td>Medina, Washington</td>\n",
       "      <td>United States</td>\n",
       "      <td>Divorced</td>\n",
       "      <td>3.0</td>\n",
       "      <td>Drop Out, Harvard University</td>\n",
       "      <td>True</td>\n",
       "      <td>Non Black</td>\n",
       "    </tr>\n",
       "    <tr>\n",
       "      <th>4</th>\n",
       "      <td>Mark Zuckerberg</td>\n",
       "      <td>97.0</td>\n",
       "      <td>United States</td>\n",
       "      <td>Facebook</td>\n",
       "      <td>5</td>\n",
       "      <td>36.0</td>\n",
       "      <td>Palo Alto, California</td>\n",
       "      <td>United States</td>\n",
       "      <td>Married</td>\n",
       "      <td>2.0</td>\n",
       "      <td>Drop Out, Harvard University</td>\n",
       "      <td>True</td>\n",
       "      <td>Non Black</td>\n",
       "    </tr>\n",
       "    <tr>\n",
       "      <th>5</th>\n",
       "      <td>Warren Buffett</td>\n",
       "      <td>96.0</td>\n",
       "      <td>United States</td>\n",
       "      <td>Berkshire Hathaway</td>\n",
       "      <td>6</td>\n",
       "      <td>90.0</td>\n",
       "      <td>Omaha, Nebraska</td>\n",
       "      <td>United States</td>\n",
       "      <td>Widowed, Remarried</td>\n",
       "      <td>3.0</td>\n",
       "      <td>Master of Science, Columbia University; Bachel...</td>\n",
       "      <td>True</td>\n",
       "      <td>Non Black</td>\n",
       "    </tr>\n",
       "    <tr>\n",
       "      <th>6</th>\n",
       "      <td>Larry Ellison</td>\n",
       "      <td>93.0</td>\n",
       "      <td>United States</td>\n",
       "      <td>software</td>\n",
       "      <td>7</td>\n",
       "      <td>76.0</td>\n",
       "      <td>Lanai, Hawaii</td>\n",
       "      <td>United States</td>\n",
       "      <td>In Relationship</td>\n",
       "      <td>4.0</td>\n",
       "      <td>Drop Out, University of Chicago; Drop Out, Uni...</td>\n",
       "      <td>True</td>\n",
       "      <td>Non Black</td>\n",
       "    </tr>\n",
       "    <tr>\n",
       "      <th>7</th>\n",
       "      <td>Larry Page</td>\n",
       "      <td>91.5</td>\n",
       "      <td>United States</td>\n",
       "      <td>Google</td>\n",
       "      <td>8</td>\n",
       "      <td>48.0</td>\n",
       "      <td>Palo Alto, California</td>\n",
       "      <td>United States</td>\n",
       "      <td>Married</td>\n",
       "      <td>1.0</td>\n",
       "      <td>Master of Science, Stanford University; Bachel...</td>\n",
       "      <td>True</td>\n",
       "      <td>Non Black</td>\n",
       "    </tr>\n",
       "    <tr>\n",
       "      <th>8</th>\n",
       "      <td>Sergey Brin</td>\n",
       "      <td>89.0</td>\n",
       "      <td>United States</td>\n",
       "      <td>Google</td>\n",
       "      <td>9</td>\n",
       "      <td>47.0</td>\n",
       "      <td>Los Altos, California</td>\n",
       "      <td>United States</td>\n",
       "      <td>Married</td>\n",
       "      <td>3.0</td>\n",
       "      <td>Master of Science, Stanford University; Bachel...</td>\n",
       "      <td>True</td>\n",
       "      <td>Non Black</td>\n",
       "    </tr>\n",
       "    <tr>\n",
       "      <th>9</th>\n",
       "      <td>Mukesh Ambani</td>\n",
       "      <td>84.5</td>\n",
       "      <td>India</td>\n",
       "      <td>diversified</td>\n",
       "      <td>10</td>\n",
       "      <td>64.0</td>\n",
       "      <td>Mumbai, India</td>\n",
       "      <td>India</td>\n",
       "      <td>Married</td>\n",
       "      <td>3.0</td>\n",
       "      <td>Drop Out, Stanford University; Bachelor of Sci...</td>\n",
       "      <td>False</td>\n",
       "      <td>Non Black</td>\n",
       "    </tr>\n",
       "  </tbody>\n",
       "</table>\n",
       "</div>"
      ],
      "text/plain": [
       "                       Name  NetWorth        Country              Source  \\\n",
       "0                Jeff Bezos     177.0  United States              Amazon   \n",
       "1                 Elon Musk     151.0  United States       Tesla, SpaceX   \n",
       "2  Bernard Arnault & family     150.0         France                LVMH   \n",
       "3                Bill Gates     124.0  United States           Microsoft   \n",
       "4           Mark Zuckerberg      97.0  United States            Facebook   \n",
       "5            Warren Buffett      96.0  United States  Berkshire Hathaway   \n",
       "6             Larry Ellison      93.0  United States            software   \n",
       "7                Larry Page      91.5  United States              Google   \n",
       "8               Sergey Brin      89.0  United States              Google   \n",
       "9             Mukesh Ambani      84.5          India         diversified   \n",
       "\n",
       "   Rank   Age              Residence    Citizenship              Status  \\\n",
       "0     1  57.0    Seattle, Washington  United States     In Relationship   \n",
       "1     2  49.0          Austin, Texas  United States     In Relationship   \n",
       "2     3  72.0          Paris, France         France             Married   \n",
       "3     4  65.0     Medina, Washington  United States            Divorced   \n",
       "4     5  36.0  Palo Alto, California  United States             Married   \n",
       "5     6  90.0        Omaha, Nebraska  United States  Widowed, Remarried   \n",
       "6     7  76.0          Lanai, Hawaii  United States     In Relationship   \n",
       "7     8  48.0  Palo Alto, California  United States             Married   \n",
       "8     9  47.0  Los Altos, California  United States             Married   \n",
       "9    10  64.0          Mumbai, India          India             Married   \n",
       "\n",
       "   Children                                          Education Self_made  \\\n",
       "0       4.0     Bachelor of Arts/Science, Princeton University      True   \n",
       "1       7.0  Bachelor of Arts/Science, University of Pennsy...      True   \n",
       "2       5.0  Bachelor of Arts/Science, Ecole Polytechnique ...     False   \n",
       "3       3.0                       Drop Out, Harvard University      True   \n",
       "4       2.0                       Drop Out, Harvard University      True   \n",
       "5       3.0  Master of Science, Columbia University; Bachel...      True   \n",
       "6       4.0  Drop Out, University of Chicago; Drop Out, Uni...      True   \n",
       "7       1.0  Master of Science, Stanford University; Bachel...      True   \n",
       "8       3.0  Master of Science, Stanford University; Bachel...      True   \n",
       "9       3.0  Drop Out, Stanford University; Bachelor of Sci...     False   \n",
       "\n",
       "        Race  \n",
       "0  Non Black  \n",
       "1  Non Black  \n",
       "2  Non Black  \n",
       "3  Non Black  \n",
       "4  Non Black  \n",
       "5  Non Black  \n",
       "6  Non Black  \n",
       "7  Non Black  \n",
       "8  Non Black  \n",
       "9  Non Black  "
      ]
     },
     "execution_count": 266,
     "metadata": {},
     "output_type": "execute_result"
    }
   ],
   "source": [
    "Billionaires_top10_names"
   ]
  },
  {
   "cell_type": "code",
   "execution_count": 268,
   "metadata": {},
   "outputs": [
    {
     "data": {
      "image/png": "[encoded data removed]",
      "text/plain": [
       "<Figure size 648x432 with 1 Axes>"
      ]
     },
     "metadata": {},
     "output_type": "display_data"
    }
   ],
   "source": [
    "sns.set_style('white')\n",
    "plt.figure(figsize = (9,6))\n",
    "plt.bar(x =Billionaires_top10_names['Name'], height = Billionaires_top10_names['NetWorth'],color = ['#3B1F2B','#A23B72','#A23B72','#A23B72','#A23B72','#A23B72','#A23B72','#A23B72','#A23B72','#A23B72'])\n",
    "plt.xticks(rotation = 90,fontsize = 15)\n",
    "plt.yticks(fontsize = 15)\n",
    "plt.ylabel('Net Worth in Billions USD', color = 'black',fontsize = 17,weight = 'bold')\n",
    "plt.title('Top 10 Richest Billionaires in the World',fontsize = 16,weight = 'bold')\n",
    "plt.grid(False)\n",
    "sns.despine(left = True , bottom = True)\n",
    "\n",
    "plt.savefig('Top 10 Richest Billionaires in the World.png')\n",
    "\n",
    "\n",
    "plt.show()"
   ]
  },
  {
   "cell_type": "code",
   "execution_count": null,
   "metadata": {},
   "outputs": [],
   "source": [
    "Billionaires_top10_names"
   ]
  },
  {
   "cell_type": "code",
   "execution_count": null,
   "metadata": {},
   "outputs": [],
   "source": [
    "Billionaires_data"
   ]
  },
  {
   "cell_type": "code",
   "execution_count": null,
   "metadata": {},
   "outputs": [],
   "source": [
    "Billionaires_data['Children'].value_counts().plot(kind = 'bar', color = 'midnightblue')\n",
    "plt.figure(figsize = (12,6))"
   ]
  },
  {
   "cell_type": "code",
   "execution_count": null,
   "metadata": {
    "scrolled": true
   },
   "outputs": [],
   "source": [
    "d = Billionaires_data.where(Billionaires_data['Age'] == 20 )"
   ]
  },
  {
   "cell_type": "code",
   "execution_count": null,
   "metadata": {},
   "outputs": [],
   "source": [
    "Billionaires_data['Children'].value_counts()"
   ]
  },
  {
   "cell_type": "markdown",
   "metadata": {},
   "source": [
    "## lets find out the source of their wealth"
   ]
  },
  {
   "cell_type": "code",
   "execution_count": 271,
   "metadata": {},
   "outputs": [],
   "source": [
    "Billionaires_source = Billionaires_data['Source'].value_counts()"
   ]
  },
  {
   "cell_type": "code",
   "execution_count": 272,
   "metadata": {},
   "outputs": [
    {
     "data": {
      "text/plain": [
       "real estate                          171\n",
       "pharmaceuticals                       99\n",
       "investments                           90\n",
       "diversified                           85\n",
       "software                              62\n",
       "                                    ... \n",
       "alcohol, real estate                   1\n",
       "ecommerce                              1\n",
       "engineering, energy, construction      1\n",
       "Fiberglass                             1\n",
       "bakeries, fast food                    1\n",
       "Name: Source, Length: 924, dtype: int64"
      ]
     },
     "execution_count": 272,
     "metadata": {},
     "output_type": "execute_result"
    }
   ],
   "source": [
    "Billionaires_source"
   ]
  },
  {
   "cell_type": "markdown",
   "metadata": {},
   "source": [
    "## Bottom 10 Billionaires Source of Wealth"
   ]
  },
  {
   "cell_type": "code",
   "execution_count": 281,
   "metadata": {
    "scrolled": false
   },
   "outputs": [
    {
     "data": {
      "text/plain": [
       "<matplotlib.axes._subplots.AxesSubplot at 0x198bd146d88>"
      ]
     },
     "execution_count": 281,
     "metadata": {},
     "output_type": "execute_result"
    },
    {
     "data": {
      "image/png": "[encoded data removed]",
      "text/plain": [
       "<Figure size 432x288 with 1 Axes>"
      ]
     },
     "metadata": {},
     "output_type": "display_data"
    }
   ],
   "source": [
    "Billionaires_source[-10:].plot(kind = 'bar')"
   ]
  },
  {
   "cell_type": "markdown",
   "metadata": {},
   "source": [
    "#### The data shows that the bottom 20 are into:\n",
    "    \n",
    "    * Consumer electronics\n",
    "    * Salsa\n",
    "    * Brakes\n",
    "    * Slim-Fast\n",
    "    * Liquefied natural gas\n",
    "    * real estate and media\n",
    "    * financial information\n",
    "    * soft drinks\n",
    "    * synthetic gloves\n",
    "    * Petro Fibre"
   ]
  },
  {
   "cell_type": "code",
   "execution_count": 277,
   "metadata": {
    "scrolled": false
   },
   "outputs": [
    {
     "data": {
      "text/html": [
       "<div>\n",
       "<style scoped>\n",
       "    .dataframe tbody tr th:only-of-type {\n",
       "        vertical-align: middle;\n",
       "    }\n",
       "\n",
       "    .dataframe tbody tr th {\n",
       "        vertical-align: top;\n",
       "    }\n",
       "\n",
       "    .dataframe thead th {\n",
       "        text-align: right;\n",
       "    }\n",
       "</style>\n",
       "<table border=\"1\" class=\"dataframe\">\n",
       "  <thead>\n",
       "    <tr style=\"text-align: right;\">\n",
       "      <th></th>\n",
       "      <th>Name</th>\n",
       "      <th>NetWorth</th>\n",
       "      <th>Country</th>\n",
       "      <th>Source</th>\n",
       "      <th>Rank</th>\n",
       "      <th>Age</th>\n",
       "      <th>Residence</th>\n",
       "      <th>Citizenship</th>\n",
       "      <th>Status</th>\n",
       "      <th>Children</th>\n",
       "      <th>Education</th>\n",
       "      <th>Self_made</th>\n",
       "      <th>Race</th>\n",
       "    </tr>\n",
       "  </thead>\n",
       "  <tbody>\n",
       "    <tr>\n",
       "      <th>2735</th>\n",
       "      <td>Tsai Chi-jui</td>\n",
       "      <td>1.0</td>\n",
       "      <td>Taiwan</td>\n",
       "      <td>shoes</td>\n",
       "      <td>2674</td>\n",
       "      <td>81.0</td>\n",
       "      <td>Taichung, Taiwan</td>\n",
       "      <td>Taiwan</td>\n",
       "      <td>Married</td>\n",
       "      <td>3.0</td>\n",
       "      <td>National Taichung University of Education</td>\n",
       "      <td>True</td>\n",
       "      <td>Non Black</td>\n",
       "    </tr>\n",
       "    <tr>\n",
       "      <th>2736</th>\n",
       "      <td>Surin Upatkoon</td>\n",
       "      <td>1.0</td>\n",
       "      <td>Thailand</td>\n",
       "      <td>telecom, lotteries, insurance</td>\n",
       "      <td>2674</td>\n",
       "      <td>72.0</td>\n",
       "      <td>Kuala Lumpur, Malaysia</td>\n",
       "      <td>Thailand</td>\n",
       "      <td>Married</td>\n",
       "      <td>3.0</td>\n",
       "      <td>High School</td>\n",
       "      <td>True</td>\n",
       "      <td>Non Black</td>\n",
       "    </tr>\n",
       "    <tr>\n",
       "      <th>2737</th>\n",
       "      <td>Ruben Vardanyan</td>\n",
       "      <td>1.0</td>\n",
       "      <td>Russia</td>\n",
       "      <td>investment banking</td>\n",
       "      <td>2674</td>\n",
       "      <td>52.0</td>\n",
       "      <td>Moscow, Russia</td>\n",
       "      <td>Russia</td>\n",
       "      <td>Married</td>\n",
       "      <td>4.0</td>\n",
       "      <td>Master of Science, Moscow State University</td>\n",
       "      <td>True</td>\n",
       "      <td>Non Black</td>\n",
       "    </tr>\n",
       "    <tr>\n",
       "      <th>2738</th>\n",
       "      <td>Murat Vargi</td>\n",
       "      <td>1.0</td>\n",
       "      <td>Turkey</td>\n",
       "      <td>telecom</td>\n",
       "      <td>2674</td>\n",
       "      <td>73.0</td>\n",
       "      <td>Istanbul, Turkey</td>\n",
       "      <td>Turkey</td>\n",
       "      <td>Married</td>\n",
       "      <td>2.0</td>\n",
       "      <td>NaN</td>\n",
       "      <td>True</td>\n",
       "      <td>Non Black</td>\n",
       "    </tr>\n",
       "    <tr>\n",
       "      <th>2739</th>\n",
       "      <td>Vlad Vendrow &amp; family</td>\n",
       "      <td>1.0</td>\n",
       "      <td>United States</td>\n",
       "      <td>software</td>\n",
       "      <td>2674</td>\n",
       "      <td>53.0</td>\n",
       "      <td>Reno, Nevada</td>\n",
       "      <td>United States</td>\n",
       "      <td>NaN</td>\n",
       "      <td>NaN</td>\n",
       "      <td>NaN</td>\n",
       "      <td>True</td>\n",
       "      <td>Non Black</td>\n",
       "    </tr>\n",
       "    <tr>\n",
       "      <th>2740</th>\n",
       "      <td>Wang Qiangxiang</td>\n",
       "      <td>1.0</td>\n",
       "      <td>China</td>\n",
       "      <td>artificial turf</td>\n",
       "      <td>2674</td>\n",
       "      <td>49.0</td>\n",
       "      <td>Nanjing, China</td>\n",
       "      <td>China</td>\n",
       "      <td>NaN</td>\n",
       "      <td>NaN</td>\n",
       "      <td>NaN</td>\n",
       "      <td>True</td>\n",
       "      <td>Non Black</td>\n",
       "    </tr>\n",
       "    <tr>\n",
       "      <th>2741</th>\n",
       "      <td>Wang Wenjian</td>\n",
       "      <td>1.0</td>\n",
       "      <td>China</td>\n",
       "      <td>optical devices</td>\n",
       "      <td>2674</td>\n",
       "      <td>74.0</td>\n",
       "      <td>Yuyao, China</td>\n",
       "      <td>China</td>\n",
       "      <td>NaN</td>\n",
       "      <td>NaN</td>\n",
       "      <td>NaN</td>\n",
       "      <td>True</td>\n",
       "      <td>Non Black</td>\n",
       "    </tr>\n",
       "    <tr>\n",
       "      <th>2742</th>\n",
       "      <td>J. Wayne Weaver</td>\n",
       "      <td>1.0</td>\n",
       "      <td>United States</td>\n",
       "      <td>Shoes</td>\n",
       "      <td>2674</td>\n",
       "      <td>85.0</td>\n",
       "      <td>Jacksonville, Florida</td>\n",
       "      <td>United States</td>\n",
       "      <td>Married</td>\n",
       "      <td>2.0</td>\n",
       "      <td>Bachelor of Science, University of Florida</td>\n",
       "      <td>True</td>\n",
       "      <td>Non Black</td>\n",
       "    </tr>\n",
       "    <tr>\n",
       "      <th>2743</th>\n",
       "      <td>Sandy Weill</td>\n",
       "      <td>1.0</td>\n",
       "      <td>United States</td>\n",
       "      <td>Citigroup</td>\n",
       "      <td>2674</td>\n",
       "      <td>88.0</td>\n",
       "      <td>Sonoma, California</td>\n",
       "      <td>United States</td>\n",
       "      <td>Married</td>\n",
       "      <td>2.0</td>\n",
       "      <td>Bachelor of Arts/Science, Cornell University</td>\n",
       "      <td>True</td>\n",
       "      <td>Non Black</td>\n",
       "    </tr>\n",
       "    <tr>\n",
       "      <th>2744</th>\n",
       "      <td>Xia Zhisheng &amp; family</td>\n",
       "      <td>1.0</td>\n",
       "      <td>China</td>\n",
       "      <td>home appliances</td>\n",
       "      <td>2674</td>\n",
       "      <td>79.0</td>\n",
       "      <td>Haining, China</td>\n",
       "      <td>China</td>\n",
       "      <td>Married</td>\n",
       "      <td>NaN</td>\n",
       "      <td>NaN</td>\n",
       "      <td>True</td>\n",
       "      <td>Non Black</td>\n",
       "    </tr>\n",
       "    <tr>\n",
       "      <th>2745</th>\n",
       "      <td>Xu Jin</td>\n",
       "      <td>1.0</td>\n",
       "      <td>China</td>\n",
       "      <td>wine</td>\n",
       "      <td>2674</td>\n",
       "      <td>56.0</td>\n",
       "      <td>Huaibei city, China</td>\n",
       "      <td>China</td>\n",
       "      <td>NaN</td>\n",
       "      <td>NaN</td>\n",
       "      <td>NaN</td>\n",
       "      <td>True</td>\n",
       "      <td>Non Black</td>\n",
       "    </tr>\n",
       "    <tr>\n",
       "      <th>2746</th>\n",
       "      <td>Vadim Yakunin</td>\n",
       "      <td>1.0</td>\n",
       "      <td>Russia</td>\n",
       "      <td>pharmacy</td>\n",
       "      <td>2674</td>\n",
       "      <td>58.0</td>\n",
       "      <td>Moscow, Russia</td>\n",
       "      <td>Russia</td>\n",
       "      <td>Married</td>\n",
       "      <td>3.0</td>\n",
       "      <td>Bachelor of Arts/Science, Moscow Institute of ...</td>\n",
       "      <td>True</td>\n",
       "      <td>Non Black</td>\n",
       "    </tr>\n",
       "    <tr>\n",
       "      <th>2747</th>\n",
       "      <td>Mark Haoyong Yang</td>\n",
       "      <td>1.0</td>\n",
       "      <td>China</td>\n",
       "      <td>e-commerce</td>\n",
       "      <td>2674</td>\n",
       "      <td>46.0</td>\n",
       "      <td>Beijing, China</td>\n",
       "      <td>China</td>\n",
       "      <td>NaN</td>\n",
       "      <td>NaN</td>\n",
       "      <td>NaN</td>\n",
       "      <td>True</td>\n",
       "      <td>Non Black</td>\n",
       "    </tr>\n",
       "    <tr>\n",
       "      <th>2748</th>\n",
       "      <td>Yao Hsiao Tung</td>\n",
       "      <td>1.0</td>\n",
       "      <td>Singapore</td>\n",
       "      <td>Manufacturing</td>\n",
       "      <td>2674</td>\n",
       "      <td>81.0</td>\n",
       "      <td>Singapore, Singapore</td>\n",
       "      <td>Singapore</td>\n",
       "      <td>Married</td>\n",
       "      <td>NaN</td>\n",
       "      <td>NaN</td>\n",
       "      <td>True</td>\n",
       "      <td>Non Black</td>\n",
       "    </tr>\n",
       "    <tr>\n",
       "      <th>2749</th>\n",
       "      <td>Yu De-Chao</td>\n",
       "      <td>1.0</td>\n",
       "      <td>United States</td>\n",
       "      <td>pharmaceuticals</td>\n",
       "      <td>2674</td>\n",
       "      <td>57.0</td>\n",
       "      <td>Suzhou, China</td>\n",
       "      <td>United States</td>\n",
       "      <td>NaN</td>\n",
       "      <td>NaN</td>\n",
       "      <td>NaN</td>\n",
       "      <td>True</td>\n",
       "      <td>Non Black</td>\n",
       "    </tr>\n",
       "    <tr>\n",
       "      <th>2750</th>\n",
       "      <td>Daniel Yong Zhang</td>\n",
       "      <td>1.0</td>\n",
       "      <td>China</td>\n",
       "      <td>e-commerce</td>\n",
       "      <td>2674</td>\n",
       "      <td>49.0</td>\n",
       "      <td>Hangzhou, China</td>\n",
       "      <td>China</td>\n",
       "      <td>NaN</td>\n",
       "      <td>NaN</td>\n",
       "      <td>NaN</td>\n",
       "      <td>True</td>\n",
       "      <td>Non Black</td>\n",
       "    </tr>\n",
       "    <tr>\n",
       "      <th>2751</th>\n",
       "      <td>Zhang Yuqiang</td>\n",
       "      <td>1.0</td>\n",
       "      <td>China</td>\n",
       "      <td>Fiberglass</td>\n",
       "      <td>2674</td>\n",
       "      <td>65.0</td>\n",
       "      <td>Tongxiang, China</td>\n",
       "      <td>China</td>\n",
       "      <td>NaN</td>\n",
       "      <td>NaN</td>\n",
       "      <td>NaN</td>\n",
       "      <td>True</td>\n",
       "      <td>Non Black</td>\n",
       "    </tr>\n",
       "    <tr>\n",
       "      <th>2752</th>\n",
       "      <td>Zhao Meiguang</td>\n",
       "      <td>1.0</td>\n",
       "      <td>China</td>\n",
       "      <td>gold mining</td>\n",
       "      <td>2674</td>\n",
       "      <td>58.0</td>\n",
       "      <td>Jilin, China</td>\n",
       "      <td>China</td>\n",
       "      <td>NaN</td>\n",
       "      <td>NaN</td>\n",
       "      <td>NaN</td>\n",
       "      <td>True</td>\n",
       "      <td>Non Black</td>\n",
       "    </tr>\n",
       "    <tr>\n",
       "      <th>2753</th>\n",
       "      <td>Zhong Naixiong</td>\n",
       "      <td>1.0</td>\n",
       "      <td>China</td>\n",
       "      <td>conglomerate</td>\n",
       "      <td>2674</td>\n",
       "      <td>58.0</td>\n",
       "      <td>Foshan, China</td>\n",
       "      <td>China</td>\n",
       "      <td>NaN</td>\n",
       "      <td>NaN</td>\n",
       "      <td>NaN</td>\n",
       "      <td>True</td>\n",
       "      <td>Non Black</td>\n",
       "    </tr>\n",
       "    <tr>\n",
       "      <th>2754</th>\n",
       "      <td>Zhou Wei family</td>\n",
       "      <td>1.0</td>\n",
       "      <td>China</td>\n",
       "      <td>Software</td>\n",
       "      <td>2674</td>\n",
       "      <td>54.0</td>\n",
       "      <td>Shanghai, China</td>\n",
       "      <td>China</td>\n",
       "      <td>Married</td>\n",
       "      <td>NaN</td>\n",
       "      <td>NaN</td>\n",
       "      <td>True</td>\n",
       "      <td>Non Black</td>\n",
       "    </tr>\n",
       "  </tbody>\n",
       "</table>\n",
       "</div>"
      ],
      "text/plain": [
       "                       Name  NetWorth        Country  \\\n",
       "2735           Tsai Chi-jui       1.0         Taiwan   \n",
       "2736         Surin Upatkoon       1.0       Thailand   \n",
       "2737        Ruben Vardanyan       1.0         Russia   \n",
       "2738            Murat Vargi       1.0         Turkey   \n",
       "2739  Vlad Vendrow & family       1.0  United States   \n",
       "2740        Wang Qiangxiang       1.0          China   \n",
       "2741           Wang Wenjian       1.0          China   \n",
       "2742        J. Wayne Weaver       1.0  United States   \n",
       "2743            Sandy Weill       1.0  United States   \n",
       "2744  Xia Zhisheng & family       1.0          China   \n",
       "2745                 Xu Jin       1.0          China   \n",
       "2746          Vadim Yakunin       1.0         Russia   \n",
       "2747      Mark Haoyong Yang       1.0          China   \n",
       "2748         Yao Hsiao Tung       1.0      Singapore   \n",
       "2749             Yu De-Chao       1.0  United States   \n",
       "2750      Daniel Yong Zhang       1.0          China   \n",
       "2751          Zhang Yuqiang       1.0          China   \n",
       "2752          Zhao Meiguang       1.0          China   \n",
       "2753         Zhong Naixiong       1.0          China   \n",
       "2754        Zhou Wei family       1.0          China   \n",
       "\n",
       "                             Source  Rank   Age               Residence  \\\n",
       "2735                          shoes  2674  81.0        Taichung, Taiwan   \n",
       "2736  telecom, lotteries, insurance  2674  72.0  Kuala Lumpur, Malaysia   \n",
       "2737             investment banking  2674  52.0          Moscow, Russia   \n",
       "2738                        telecom  2674  73.0        Istanbul, Turkey   \n",
       "2739                       software  2674  53.0            Reno, Nevada   \n",
       "2740                artificial turf  2674  49.0          Nanjing, China   \n",
       "2741                optical devices  2674  74.0            Yuyao, China   \n",
       "2742                          Shoes  2674  85.0   Jacksonville, Florida   \n",
       "2743                      Citigroup  2674  88.0      Sonoma, California   \n",
       "2744                home appliances  2674  79.0          Haining, China   \n",
       "2745                           wine  2674  56.0     Huaibei city, China   \n",
       "2746                       pharmacy  2674  58.0          Moscow, Russia   \n",
       "2747                     e-commerce  2674  46.0          Beijing, China   \n",
       "2748                  Manufacturing  2674  81.0    Singapore, Singapore   \n",
       "2749                pharmaceuticals  2674  57.0           Suzhou, China   \n",
       "2750                     e-commerce  2674  49.0         Hangzhou, China   \n",
       "2751                     Fiberglass  2674  65.0        Tongxiang, China   \n",
       "2752                    gold mining  2674  58.0            Jilin, China   \n",
       "2753                   conglomerate  2674  58.0           Foshan, China   \n",
       "2754                       Software  2674  54.0         Shanghai, China   \n",
       "\n",
       "        Citizenship   Status  Children  \\\n",
       "2735         Taiwan  Married       3.0   \n",
       "2736       Thailand  Married       3.0   \n",
       "2737         Russia  Married       4.0   \n",
       "2738         Turkey  Married       2.0   \n",
       "2739  United States      NaN       NaN   \n",
       "2740          China      NaN       NaN   \n",
       "2741          China      NaN       NaN   \n",
       "2742  United States  Married       2.0   \n",
       "2743  United States  Married       2.0   \n",
       "2744          China  Married       NaN   \n",
       "2745          China      NaN       NaN   \n",
       "2746         Russia  Married       3.0   \n",
       "2747          China      NaN       NaN   \n",
       "2748      Singapore  Married       NaN   \n",
       "2749  United States      NaN       NaN   \n",
       "2750          China      NaN       NaN   \n",
       "2751          China      NaN       NaN   \n",
       "2752          China      NaN       NaN   \n",
       "2753          China      NaN       NaN   \n",
       "2754          China  Married       NaN   \n",
       "\n",
       "                                              Education Self_made       Race  \n",
       "2735          National Taichung University of Education      True  Non Black  \n",
       "2736                                        High School      True  Non Black  \n",
       "2737         Master of Science, Moscow State University      True  Non Black  \n",
       "2738                                                NaN      True  Non Black  \n",
       "2739                                                NaN      True  Non Black  \n",
       "2740                                                NaN      True  Non Black  \n",
       "2741                                                NaN      True  Non Black  \n",
       "2742         Bachelor of Science, University of Florida      True  Non Black  \n",
       "2743       Bachelor of Arts/Science, Cornell University      True  Non Black  \n",
       "2744                                                NaN      True  Non Black  \n",
       "2745                                                NaN      True  Non Black  \n",
       "2746  Bachelor of Arts/Science, Moscow Institute of ...      True  Non Black  \n",
       "2747                                                NaN      True  Non Black  \n",
       "2748                                                NaN      True  Non Black  \n",
       "2749                                                NaN      True  Non Black  \n",
       "2750                                                NaN      True  Non Black  \n",
       "2751                                                NaN      True  Non Black  \n",
       "2752                                                NaN      True  Non Black  \n",
       "2753                                                NaN      True  Non Black  \n",
       "2754                                                NaN      True  Non Black  "
      ]
     },
     "execution_count": 277,
     "metadata": {},
     "output_type": "execute_result"
    }
   ],
   "source": [
    "Billionaires_data[-20:]"
   ]
  },
  {
   "cell_type": "code",
   "execution_count": null,
   "metadata": {},
   "outputs": [],
   "source": [
    "#Out of curiosity lets find out the name of the person that gets his wealth from softdrinks and other avenues"
   ]
  },
  {
   "cell_type": "code",
   "execution_count": 170,
   "metadata": {},
   "outputs": [],
   "source": [
    "Soft_drink = Billionaires_data.loc[(Billionaires_data['Source'] == 'soft drinks, diversified')]"
   ]
  },
  {
   "cell_type": "code",
   "execution_count": 171,
   "metadata": {},
   "outputs": [
    {
     "data": {
      "text/html": [
       "<div>\n",
       "<style scoped>\n",
       "    .dataframe tbody tr th:only-of-type {\n",
       "        vertical-align: middle;\n",
       "    }\n",
       "\n",
       "    .dataframe tbody tr th {\n",
       "        vertical-align: top;\n",
       "    }\n",
       "\n",
       "    .dataframe thead th {\n",
       "        text-align: right;\n",
       "    }\n",
       "</style>\n",
       "<table border=\"1\" class=\"dataframe\">\n",
       "  <thead>\n",
       "    <tr style=\"text-align: right;\">\n",
       "      <th></th>\n",
       "      <th>Name</th>\n",
       "      <th>NetWorth</th>\n",
       "      <th>Country</th>\n",
       "      <th>Source</th>\n",
       "      <th>Rank</th>\n",
       "      <th>Age</th>\n",
       "      <th>Residence</th>\n",
       "      <th>Citizenship</th>\n",
       "      <th>Status</th>\n",
       "      <th>Children</th>\n",
       "      <th>Education</th>\n",
       "      <th>Self_made</th>\n",
       "      <th>geometry</th>\n",
       "      <th>Race</th>\n",
       "    </tr>\n",
       "  </thead>\n",
       "  <tbody>\n",
       "    <tr>\n",
       "      <th>1365</th>\n",
       "      <td>Carlos Ardila Lülle</td>\n",
       "      <td>2.3</td>\n",
       "      <td>Colombia</td>\n",
       "      <td>soft drinks, diversified</td>\n",
       "      <td>1362</td>\n",
       "      <td>90.0</td>\n",
       "      <td>Bogota, Colombia</td>\n",
       "      <td>Colombia</td>\n",
       "      <td>Married</td>\n",
       "      <td>NaN</td>\n",
       "      <td>Bachelor of Engineering, Universidad Nacional ...</td>\n",
       "      <td>True</td>\n",
       "      <td>POINT (-74.083652 4.6533326)</td>\n",
       "      <td>Non Black</td>\n",
       "    </tr>\n",
       "  </tbody>\n",
       "</table>\n",
       "</div>"
      ],
      "text/plain": [
       "                     Name  NetWorth   Country                    Source  Rank  \\\n",
       "1365  Carlos Ardila Lülle       2.3  Colombia  soft drinks, diversified  1362   \n",
       "\n",
       "       Age         Residence Citizenship   Status  Children  \\\n",
       "1365  90.0  Bogota, Colombia    Colombia  Married       NaN   \n",
       "\n",
       "                                              Education Self_made  \\\n",
       "1365  Bachelor of Engineering, Universidad Nacional ...      True   \n",
       "\n",
       "                          geometry       Race  \n",
       "1365  POINT (-74.083652 4.6533326)  Non Black  "
      ]
     },
     "execution_count": 171,
     "metadata": {},
     "output_type": "execute_result"
    }
   ],
   "source": [
    "Soft_drink"
   ]
  },
  {
   "cell_type": "markdown",
   "metadata": {},
   "source": [
    "*  **Carlos Ardila Lüll is a serial enterprenuer and built a fortune selling soda and got even richer by investing in bottling companies, radio and TV stations, and sugar refineries.**\n",
    "\n",
    " You can find out more about **Carlos Ardila Lüll** in this link [Forbes](https://www.forbes.com/profile/carlos-ardila-lulle/?sh=222ff0005750)."
   ]
  },
  {
   "cell_type": "markdown",
   "metadata": {},
   "source": [
    "\n",
    "* lets find out the marital status of our billionaires"
   ]
  },
  {
   "cell_type": "code",
   "execution_count": null,
   "metadata": {
    "scrolled": true
   },
   "outputs": [],
   "source": [
    "Billionaires_data['Status'].value_counts()"
   ]
  },
  {
   "cell_type": "code",
   "execution_count": null,
   "metadata": {},
   "outputs": [],
   "source": [
    "sns.set_style('white')\n",
    "plt.figure(figsize = (12,6))\n",
    "ax = Billionaires_data['Status'].value_counts().plot(kind = 'barh',color = '#A23B72')\n",
    "\n",
    "for i in ax.patches:\n",
    "    ax.text(i.get_width()+12 , i.get_y()+.40, #i.get_width moves the anotation left or right and i.get_y moves it up or down\n",
    "            str(round((i.get_width()),2)),fontsize = 12,color = 'dimgrey')\n",
    " \n",
    "\n",
    "ax.invert_yaxis() #arranges the bar in descending order\n",
    "plt.grid(False)\n",
    "sns.despine(left = True , bottom = True)"
   ]
  },
  {
   "cell_type": "markdown",
   "metadata": {},
   "source": [
    "* **This visualization shows that majority of billionaires are married**\n",
    " \n",
    "  Guess one can mainatin a family and still accumulate wealth."
   ]
  },
  {
   "cell_type": "markdown",
   "metadata": {},
   "source": [
    "A simple way of understanding continous variable is by plotting the histogram"
   ]
  },
  {
   "cell_type": "code",
   "execution_count": null,
   "metadata": {
    "scrolled": false
   },
   "outputs": [],
   "source": [
    "plt.figure(figsize = (6,9))\n",
    "Billionaires_data['Age'].hist(bins = 9,color = '#A44A3F')\n",
    "\n",
    "#for i in range(0,4):\n",
    "   # patches[i].set_facecor('#A44A3F')\n",
    "#for i in range(4,7):\n",
    "#    patches[i].set_facecor('#414535')   \n",
    "#or i in range(7,9):\n",
    "  #  patches[i].set_facecor('#A44A3F')\n",
    "\n",
    "\n",
    "\n",
    "\n",
    "plt.xlabel('Age',fontsize = 13,weight = 'bold')\n",
    "plt.title('Age distribution of 2021 Top Billionares(Forbes) in the world'\n",
    "          ,fontsize = 15,weight = 'bold',color = 'b')\n",
    "sns.despine(top = True , bottom = False,left = False,right = True)\n",
    "plt.grid(False)"
   ]
  },
  {
   "cell_type": "markdown",
   "metadata": {},
   "source": [
    "* As per the above plot,most of the billionaires are between the age of 60 and 70."
   ]
  },
  {
   "cell_type": "code",
   "execution_count": null,
   "metadata": {
    "scrolled": true
   },
   "outputs": [],
   "source": [
    "Billionaires_data['Self_made'].value_counts()"
   ]
  },
  {
   "cell_type": "code",
   "execution_count": 149,
   "metadata": {},
   "outputs": [
    {
     "data": {
      "text/plain": [
       "<matplotlib.legend.Legend at 0x198b4ffd4c8>"
      ]
     },
     "execution_count": 149,
     "metadata": {},
     "output_type": "execute_result"
    },
    {
     "data": {
      "image/png": "[encoded data removed]",
      "text/plain": [
       "<Figure size 864x576 with 1 Axes>"
      ]
     },
     "metadata": {},
     "output_type": "display_data"
    }
   ],
   "source": [
    "plt.figure(figsize = (12,8))\n",
    "ax = Billionaires_data['Self_made'].value_counts().plot(kind = 'pie',colors =['#311E10','#DD6031'],autopct = '%.2f%%',labels =['',''],textprops = {'size':'x-large','fontweight':'bold','fontsize':20,'color':'w'})\n",
    "labels= ['Self_made','Not Self_made']\n",
    "plt.title('Percentage of Self Made Billionaires to Non-Self Made Billionaires', fontsize = 20,weight = 'bold')\n",
    "ax.yaxis.set_visible(False)\n",
    "plt.legend(labels = labels,loc = 'lower left',fontsize = 20)\n"
   ]
  },
  {
   "cell_type": "markdown",
   "metadata": {},
   "source": [
    "*                     **The pie shows that there are more self made billionaires than the latter**.\n",
    "\n",
    "**Forbes** defines being self-made as \"someone who built a company or established a fortune on her own, rather than inheriting some or all of it.\" And the above caht shows that a greater percentage of the worlds billionaires made their wealth on their own rather than inherting it.\n",
    "\n",
    "This shows that anyone can become a billionaire irrespective of ones background."
   ]
  },
  {
   "cell_type": "code",
   "execution_count": 176,
   "metadata": {},
   "outputs": [],
   "source": [
    "Billionaires_data['Race']=''"
   ]
  },
  {
   "cell_type": "code",
   "execution_count": 177,
   "metadata": {},
   "outputs": [],
   "source": [
    "#Billionaires_data.drop(['geometry'],axis = 1,inplace = True)\n",
    "Billionaires_data.drop(['geometry'],axis = 1,inplace = True)"
   ]
  },
  {
   "cell_type": "code",
   "execution_count": 178,
   "metadata": {
    "collapsed": true
   },
   "outputs": [
    {
     "data": {
      "text/html": [
       "<div>\n",
       "<style scoped>\n",
       "    .dataframe tbody tr th:only-of-type {\n",
       "        vertical-align: middle;\n",
       "    }\n",
       "\n",
       "    .dataframe tbody tr th {\n",
       "        vertical-align: top;\n",
       "    }\n",
       "\n",
       "    .dataframe thead th {\n",
       "        text-align: right;\n",
       "    }\n",
       "</style>\n",
       "<table border=\"1\" class=\"dataframe\">\n",
       "  <thead>\n",
       "    <tr style=\"text-align: right;\">\n",
       "      <th></th>\n",
       "      <th>Name</th>\n",
       "      <th>NetWorth</th>\n",
       "      <th>Country</th>\n",
       "      <th>Source</th>\n",
       "      <th>Rank</th>\n",
       "      <th>Age</th>\n",
       "      <th>Residence</th>\n",
       "      <th>Citizenship</th>\n",
       "      <th>Status</th>\n",
       "      <th>Children</th>\n",
       "      <th>Education</th>\n",
       "      <th>Self_made</th>\n",
       "      <th>Race</th>\n",
       "    </tr>\n",
       "  </thead>\n",
       "  <tbody>\n",
       "    <tr>\n",
       "      <th>0</th>\n",
       "      <td>Jeff Bezos</td>\n",
       "      <td>177.0</td>\n",
       "      <td>United States</td>\n",
       "      <td>Amazon</td>\n",
       "      <td>1</td>\n",
       "      <td>57.0</td>\n",
       "      <td>Seattle, Washington</td>\n",
       "      <td>United States</td>\n",
       "      <td>In Relationship</td>\n",
       "      <td>4.0</td>\n",
       "      <td>Bachelor of Arts/Science, Princeton University</td>\n",
       "      <td>True</td>\n",
       "      <td></td>\n",
       "    </tr>\n",
       "    <tr>\n",
       "      <th>1</th>\n",
       "      <td>Elon Musk</td>\n",
       "      <td>151.0</td>\n",
       "      <td>United States</td>\n",
       "      <td>Tesla, SpaceX</td>\n",
       "      <td>2</td>\n",
       "      <td>49.0</td>\n",
       "      <td>Austin, Texas</td>\n",
       "      <td>United States</td>\n",
       "      <td>In Relationship</td>\n",
       "      <td>7.0</td>\n",
       "      <td>Bachelor of Arts/Science, University of Pennsy...</td>\n",
       "      <td>True</td>\n",
       "      <td></td>\n",
       "    </tr>\n",
       "    <tr>\n",
       "      <th>2</th>\n",
       "      <td>Bernard Arnault &amp; family</td>\n",
       "      <td>150.0</td>\n",
       "      <td>France</td>\n",
       "      <td>LVMH</td>\n",
       "      <td>3</td>\n",
       "      <td>72.0</td>\n",
       "      <td>Paris, France</td>\n",
       "      <td>France</td>\n",
       "      <td>Married</td>\n",
       "      <td>5.0</td>\n",
       "      <td>Bachelor of Arts/Science, Ecole Polytechnique ...</td>\n",
       "      <td>False</td>\n",
       "      <td></td>\n",
       "    </tr>\n",
       "    <tr>\n",
       "      <th>3</th>\n",
       "      <td>Bill Gates</td>\n",
       "      <td>124.0</td>\n",
       "      <td>United States</td>\n",
       "      <td>Microsoft</td>\n",
       "      <td>4</td>\n",
       "      <td>65.0</td>\n",
       "      <td>Medina, Washington</td>\n",
       "      <td>United States</td>\n",
       "      <td>Divorced</td>\n",
       "      <td>3.0</td>\n",
       "      <td>Drop Out, Harvard University</td>\n",
       "      <td>True</td>\n",
       "      <td></td>\n",
       "    </tr>\n",
       "    <tr>\n",
       "      <th>4</th>\n",
       "      <td>Mark Zuckerberg</td>\n",
       "      <td>97.0</td>\n",
       "      <td>United States</td>\n",
       "      <td>Facebook</td>\n",
       "      <td>5</td>\n",
       "      <td>36.0</td>\n",
       "      <td>Palo Alto, California</td>\n",
       "      <td>United States</td>\n",
       "      <td>Married</td>\n",
       "      <td>2.0</td>\n",
       "      <td>Drop Out, Harvard University</td>\n",
       "      <td>True</td>\n",
       "      <td></td>\n",
       "    </tr>\n",
       "    <tr>\n",
       "      <th>...</th>\n",
       "      <td>...</td>\n",
       "      <td>...</td>\n",
       "      <td>...</td>\n",
       "      <td>...</td>\n",
       "      <td>...</td>\n",
       "      <td>...</td>\n",
       "      <td>...</td>\n",
       "      <td>...</td>\n",
       "      <td>...</td>\n",
       "      <td>...</td>\n",
       "      <td>...</td>\n",
       "      <td>...</td>\n",
       "      <td>...</td>\n",
       "    </tr>\n",
       "    <tr>\n",
       "      <th>2750</th>\n",
       "      <td>Daniel Yong Zhang</td>\n",
       "      <td>1.0</td>\n",
       "      <td>China</td>\n",
       "      <td>e-commerce</td>\n",
       "      <td>2674</td>\n",
       "      <td>49.0</td>\n",
       "      <td>Hangzhou, China</td>\n",
       "      <td>China</td>\n",
       "      <td>NaN</td>\n",
       "      <td>NaN</td>\n",
       "      <td>NaN</td>\n",
       "      <td>True</td>\n",
       "      <td></td>\n",
       "    </tr>\n",
       "    <tr>\n",
       "      <th>2751</th>\n",
       "      <td>Zhang Yuqiang</td>\n",
       "      <td>1.0</td>\n",
       "      <td>China</td>\n",
       "      <td>Fiberglass</td>\n",
       "      <td>2674</td>\n",
       "      <td>65.0</td>\n",
       "      <td>Tongxiang, China</td>\n",
       "      <td>China</td>\n",
       "      <td>NaN</td>\n",
       "      <td>NaN</td>\n",
       "      <td>NaN</td>\n",
       "      <td>True</td>\n",
       "      <td></td>\n",
       "    </tr>\n",
       "    <tr>\n",
       "      <th>2752</th>\n",
       "      <td>Zhao Meiguang</td>\n",
       "      <td>1.0</td>\n",
       "      <td>China</td>\n",
       "      <td>gold mining</td>\n",
       "      <td>2674</td>\n",
       "      <td>58.0</td>\n",
       "      <td>Jilin, China</td>\n",
       "      <td>China</td>\n",
       "      <td>NaN</td>\n",
       "      <td>NaN</td>\n",
       "      <td>NaN</td>\n",
       "      <td>True</td>\n",
       "      <td></td>\n",
       "    </tr>\n",
       "    <tr>\n",
       "      <th>2753</th>\n",
       "      <td>Zhong Naixiong</td>\n",
       "      <td>1.0</td>\n",
       "      <td>China</td>\n",
       "      <td>conglomerate</td>\n",
       "      <td>2674</td>\n",
       "      <td>58.0</td>\n",
       "      <td>Foshan, China</td>\n",
       "      <td>China</td>\n",
       "      <td>NaN</td>\n",
       "      <td>NaN</td>\n",
       "      <td>NaN</td>\n",
       "      <td>True</td>\n",
       "      <td></td>\n",
       "    </tr>\n",
       "    <tr>\n",
       "      <th>2754</th>\n",
       "      <td>Zhou Wei family</td>\n",
       "      <td>1.0</td>\n",
       "      <td>China</td>\n",
       "      <td>Software</td>\n",
       "      <td>2674</td>\n",
       "      <td>54.0</td>\n",
       "      <td>Shanghai, China</td>\n",
       "      <td>China</td>\n",
       "      <td>Married</td>\n",
       "      <td>NaN</td>\n",
       "      <td>NaN</td>\n",
       "      <td>True</td>\n",
       "      <td></td>\n",
       "    </tr>\n",
       "  </tbody>\n",
       "</table>\n",
       "<p>2755 rows × 13 columns</p>\n",
       "</div>"
      ],
      "text/plain": [
       "                          Name  NetWorth        Country         Source  Rank  \\\n",
       "0                   Jeff Bezos     177.0  United States         Amazon     1   \n",
       "1                    Elon Musk     151.0  United States  Tesla, SpaceX     2   \n",
       "2     Bernard Arnault & family     150.0         France           LVMH     3   \n",
       "3                   Bill Gates     124.0  United States      Microsoft     4   \n",
       "4              Mark Zuckerberg      97.0  United States       Facebook     5   \n",
       "...                        ...       ...            ...            ...   ...   \n",
       "2750         Daniel Yong Zhang       1.0          China     e-commerce  2674   \n",
       "2751             Zhang Yuqiang       1.0          China     Fiberglass  2674   \n",
       "2752             Zhao Meiguang       1.0          China    gold mining  2674   \n",
       "2753            Zhong Naixiong       1.0          China   conglomerate  2674   \n",
       "2754           Zhou Wei family       1.0          China       Software  2674   \n",
       "\n",
       "       Age              Residence    Citizenship           Status  Children  \\\n",
       "0     57.0    Seattle, Washington  United States  In Relationship       4.0   \n",
       "1     49.0          Austin, Texas  United States  In Relationship       7.0   \n",
       "2     72.0          Paris, France         France          Married       5.0   \n",
       "3     65.0     Medina, Washington  United States         Divorced       3.0   \n",
       "4     36.0  Palo Alto, California  United States          Married       2.0   \n",
       "...    ...                    ...            ...              ...       ...   \n",
       "2750  49.0        Hangzhou, China          China              NaN       NaN   \n",
       "2751  65.0       Tongxiang, China          China              NaN       NaN   \n",
       "2752  58.0           Jilin, China          China              NaN       NaN   \n",
       "2753  58.0          Foshan, China          China              NaN       NaN   \n",
       "2754  54.0        Shanghai, China          China          Married       NaN   \n",
       "\n",
       "                                              Education Self_made Race  \n",
       "0        Bachelor of Arts/Science, Princeton University      True       \n",
       "1     Bachelor of Arts/Science, University of Pennsy...      True       \n",
       "2     Bachelor of Arts/Science, Ecole Polytechnique ...     False       \n",
       "3                          Drop Out, Harvard University      True       \n",
       "4                          Drop Out, Harvard University      True       \n",
       "...                                                 ...       ...  ...  \n",
       "2750                                                NaN      True       \n",
       "2751                                                NaN      True       \n",
       "2752                                                NaN      True       \n",
       "2753                                                NaN      True       \n",
       "2754                                                NaN      True       \n",
       "\n",
       "[2755 rows x 13 columns]"
      ]
     },
     "execution_count": 178,
     "metadata": {},
     "output_type": "execute_result"
    }
   ],
   "source": [
    "Billionaires_data"
   ]
  },
  {
   "cell_type": "code",
   "execution_count": 179,
   "metadata": {},
   "outputs": [],
   "source": [
    "#adding a new column 'Race'\n",
    "Black_Billionaires = ['Aliko Dangote','Mike Adenuga','Robert F. Smith','David Steward','Abdulsamad Rabiu','Oprah Winfrey','Strive Masiyiwa',\n",
    "        'Patrice motsepe','kanye West','Micheal Jodan','Jay-Z']\n",
    "                                                     \n",
    "#Billionaires_data.loc[Billionaires_data['Name'].isin(Black_Billionaires),'Race'] = 'Black'   i\n",
    "#Billionaires_data\n",
    "#Billionaires_data['Race'] = 'Non Black'\n",
    "#Billionaires_data.loc[Black_Billionaires,'Race'] = 'Black'\n",
    "\n",
    "Billionaires_data['Race'] = ['Black' if x in Black_Billionaires else 'Non Black' for x in Billionaires_data['Name']]\n",
    "                                                      "
   ]
  },
  {
   "cell_type": "code",
   "execution_count": 180,
   "metadata": {},
   "outputs": [],
   "source": [
    "Billionaires_update_Race= Billionaires_data.loc[(Billionaires_data['Race']=='Black')]"
   ]
  },
  {
   "cell_type": "code",
   "execution_count": 181,
   "metadata": {},
   "outputs": [
    {
     "data": {
      "text/plain": [
       "Non Black    2747\n",
       "Black           8\n",
       "Name: Race, dtype: int64"
      ]
     },
     "execution_count": 181,
     "metadata": {},
     "output_type": "execute_result"
    }
   ],
   "source": [
    "Billionaires_data['Race'].value_counts()"
   ]
  },
  {
   "cell_type": "code",
   "execution_count": 283,
   "metadata": {},
   "outputs": [
    {
     "data": {
      "text/plain": [
       "<matplotlib.legend.Legend at 0x198bbebfd88>"
      ]
     },
     "execution_count": 283,
     "metadata": {},
     "output_type": "execute_result"
    },
    {
     "data": {
      "image/png": "[encoded data removed]",
      "text/plain": [
       "<Figure size 864x576 with 1 Axes>"
      ]
     },
     "metadata": {},
     "output_type": "display_data"
    }
   ],
   "source": [
    "plt.figure(figsize = (12,8))\n",
    "ax = Billionaires_data['Race'].value_counts().plot(kind = 'pie',colors =['#721817','#FA9F42'],autopct = '%.2f%%',labels =['',''],textprops = {'size':'x-large','fontweight':'bold','fontsize':15,'color':'w'})\n",
    "labels= ['Black','Non Black']\n",
    "plt.title('Percentage of Black Billionaires to Non-Black Billionaires', fontsize = 20,weight = 'bold')\n",
    "ax.yaxis.set_visible(False) #remove the label on the y axis\n",
    "plt.legend(labels = labels,loc = 'lower left',fontsize = 20)"
   ]
  },
  {
   "cell_type": "code",
   "execution_count": 188,
   "metadata": {},
   "outputs": [],
   "source": [
    "nigerian_Billionaires = Billionaires_data.loc[Billionaires_data['Country'] == 'Nigeria']"
   ]
  },
  {
   "cell_type": "code",
   "execution_count": 189,
   "metadata": {},
   "outputs": [
    {
     "data": {
      "text/html": [
       "<div>\n",
       "<style scoped>\n",
       "    .dataframe tbody tr th:only-of-type {\n",
       "        vertical-align: middle;\n",
       "    }\n",
       "\n",
       "    .dataframe tbody tr th {\n",
       "        vertical-align: top;\n",
       "    }\n",
       "\n",
       "    .dataframe thead th {\n",
       "        text-align: right;\n",
       "    }\n",
       "</style>\n",
       "<table border=\"1\" class=\"dataframe\">\n",
       "  <thead>\n",
       "    <tr style=\"text-align: right;\">\n",
       "      <th></th>\n",
       "      <th>Name</th>\n",
       "      <th>NetWorth</th>\n",
       "      <th>Country</th>\n",
       "      <th>Source</th>\n",
       "      <th>Rank</th>\n",
       "      <th>Age</th>\n",
       "      <th>Residence</th>\n",
       "      <th>Citizenship</th>\n",
       "      <th>Status</th>\n",
       "      <th>Children</th>\n",
       "      <th>Education</th>\n",
       "      <th>Self_made</th>\n",
       "      <th>Race</th>\n",
       "    </tr>\n",
       "  </thead>\n",
       "  <tbody>\n",
       "    <tr>\n",
       "      <th>190</th>\n",
       "      <td>Aliko Dangote</td>\n",
       "      <td>11.5</td>\n",
       "      <td>Nigeria</td>\n",
       "      <td>cement, sugar</td>\n",
       "      <td>191</td>\n",
       "      <td>64.0</td>\n",
       "      <td>Lagos, Nigeria</td>\n",
       "      <td>Nigeria</td>\n",
       "      <td>Divorced</td>\n",
       "      <td>3.0</td>\n",
       "      <td>Bachelor of Arts/Science, Al-Azhar University</td>\n",
       "      <td>True</td>\n",
       "      <td>Black</td>\n",
       "    </tr>\n",
       "    <tr>\n",
       "      <th>439</th>\n",
       "      <td>Mike Adenuga</td>\n",
       "      <td>6.1</td>\n",
       "      <td>Nigeria</td>\n",
       "      <td>telecom, oil</td>\n",
       "      <td>440</td>\n",
       "      <td>68.0</td>\n",
       "      <td>Lagos, Nigeria</td>\n",
       "      <td>Nigeria</td>\n",
       "      <td>Married</td>\n",
       "      <td>7.0</td>\n",
       "      <td>Master of Business Administration, Pace Univer...</td>\n",
       "      <td>True</td>\n",
       "      <td>Black</td>\n",
       "    </tr>\n",
       "    <tr>\n",
       "      <th>580</th>\n",
       "      <td>Abdulsamad Rabiu</td>\n",
       "      <td>4.9</td>\n",
       "      <td>Nigeria</td>\n",
       "      <td>cement, sugar</td>\n",
       "      <td>574</td>\n",
       "      <td>60.0</td>\n",
       "      <td>Lagos, Nigeria</td>\n",
       "      <td>Nigeria</td>\n",
       "      <td>Married</td>\n",
       "      <td>NaN</td>\n",
       "      <td>NaN</td>\n",
       "      <td>False</td>\n",
       "      <td>Black</td>\n",
       "    </tr>\n",
       "  </tbody>\n",
       "</table>\n",
       "</div>"
      ],
      "text/plain": [
       "                 Name  NetWorth  Country         Source  Rank   Age  \\\n",
       "190     Aliko Dangote      11.5  Nigeria  cement, sugar   191  64.0   \n",
       "439      Mike Adenuga       6.1  Nigeria   telecom, oil   440  68.0   \n",
       "580  Abdulsamad Rabiu       4.9  Nigeria  cement, sugar   574  60.0   \n",
       "\n",
       "          Residence Citizenship    Status  Children  \\\n",
       "190  Lagos, Nigeria     Nigeria  Divorced       3.0   \n",
       "439  Lagos, Nigeria     Nigeria   Married       7.0   \n",
       "580  Lagos, Nigeria     Nigeria   Married       NaN   \n",
       "\n",
       "                                             Education Self_made   Race  \n",
       "190      Bachelor of Arts/Science, Al-Azhar University      True  Black  \n",
       "439  Master of Business Administration, Pace Univer...      True  Black  \n",
       "580                                                NaN     False  Black  "
      ]
     },
     "execution_count": 189,
     "metadata": {},
     "output_type": "execute_result"
    }
   ],
   "source": [
    "nigerian_Billionaires"
   ]
  },
  {
   "cell_type": "code",
   "execution_count": 258,
   "metadata": {},
   "outputs": [
    {
     "data": {
      "image/png": "[encoded data removed]",
      "text/plain": [
       "<Figure size 720x432 with 1 Axes>"
      ]
     },
     "metadata": {},
     "output_type": "display_data"
    }
   ],
   "source": [
    "\n",
    "import matplotlib.patches as mpatches\n",
    "\n",
    "plt.figure(figsize = (10,6))\n",
    "plt.bar(x =nigerian_Billionaires['Name'], height = nigerian_Billionaires['NetWorth'],color = ['#BFAE48','#0077B6','#BFAE48'] )\n",
    "plt.xticks(rotation = 90,fontsize = 15)\n",
    "plt.yticks(fontsize = 15)#\n",
    "plt.title('Billonaires in Nigeria and their Source of Wealth',fontsize = 16, weight = 'bold')\n",
    "\n",
    "yellow_patch = mpatches.Patch(color='#BFAE48', label='Cement and Sugar')\n",
    "blue_patch = mpatches.Patch(color='#0077B6', label='Telecomunication & Oil')\n",
    "\n",
    "sns.despine(top = True, right = True )\n",
    "\n",
    "plt.legend(handles=[red_patch, blue_patch],title ='Source of Wealth',title_fontsize= 14,fontsize=14)\n",
    "\n",
    "plt.show()"
   ]
  },
  {
   "cell_type": "markdown",
   "metadata": {},
   "source": [
    "* Abdulsamad Rabiu is the founder of BUA Group, a Nigerian conglomerate active in cement production, sugar refining and real estate.\n",
    "\n",
    "* Follow this [link](https://www.forbes.com/profile/abdulsamad-rabiu/?sh=516bf95d6cf4) to find out more about **Abdulsamad R.**"
   ]
  },
  {
   "cell_type": "markdown",
   "metadata": {},
   "source": [
    "* This show that about 0.3% of the worlds billionaires are black and this is an extremely low figure compared to 99.7 percent that are non blacks.\n",
    "* There are 8 black billionares and three of the eight are Nigerians."
   ]
  },
  {
   "cell_type": "code",
   "execution_count": null,
   "metadata": {},
   "outputs": [],
   "source": []
  },
  {
   "cell_type": "code",
   "execution_count": null,
   "metadata": {},
   "outputs": [],
   "source": []
  }
 ],
 "metadata": {
  "kernelspec": {
   "display_name": "Python 3",
   "language": "python",
   "name": "python3"
  },
  "language_info": {
   "codemirror_mode": {
    "name": "ipython",
    "version": 3
   },
   "file_extension": ".py",
   "mimetype": "text/x-python",
   "name": "python",
   "nbconvert_exporter": "python",
   "pygments_lexer": "ipython3",
   "version": "3.7.4"
  }
 },
 "nbformat": 4,
 "nbformat_minor": 2
}
